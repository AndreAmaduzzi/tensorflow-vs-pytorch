{
  "nbformat": 4,
  "nbformat_minor": 0,
  "metadata": {
    "colab": {
      "provenance": [],
      "authorship_tag": "ABX9TyOR5zFLI6XChZbTYo2auw6K",
      "include_colab_link": true
    },
    "kernelspec": {
      "name": "python3",
      "display_name": "Python 3"
    },
    "language_info": {
      "name": "python"
    }
  },
  "cells": [
    {
      "cell_type": "markdown",
      "metadata": {
        "id": "view-in-github",
        "colab_type": "text"
      },
      "source": [
        "<a href=\"https://colab.research.google.com/github/AndreAmaduzzi/tensorflow-vs-pytorch/blob/main/pytorch.ipynb\" target=\"_parent\"><img src=\"https://colab.research.google.com/assets/colab-badge.svg\" alt=\"Open In Colab\"/></a>"
      ]
    },
    {
      "cell_type": "markdown",
      "source": [
        "# Pytorch implementation of Object Detection Network"
      ],
      "metadata": {
        "id": "r0PqWcnHpdf1"
      }
    },
    {
      "cell_type": "markdown",
      "source": [
        "## Import Dependencies"
      ],
      "metadata": {
        "id": "ACSWVMPKp_Au"
      }
    },
    {
      "cell_type": "code",
      "source": [
        "from __future__ import print_function\n",
        "from __future__ import division\n",
        "\n",
        "import copy\n",
        "import torch\n",
        "import torchvision\n",
        "import torch.nn as nn\n",
        "import torch.optim as optim\n",
        "import torch.utils as utils\n",
        "import matplotlib.pyplot as plt\n",
        "import numpy as np\n",
        "import random\n",
        "import requests\n",
        "import os\n",
        "import time\n",
        "\n",
        "from pathlib import Path\n",
        "from PIL import Image, ImageDraw, ImageFont\n",
        "from timeit import default_timer as timer\n",
        "from typing import Callable, Dict, List, Tuple, Union\n",
        "from torchvision import datasets, models, transforms\n",
        "from torchsummary import summary\n",
        "from torch.optim import lr_scheduler\n",
        "from torch.utils.tensorboard import SummaryWriter\n",
        "from torch.utils.data import DataLoader\n",
        "from torchvision import transforms\n",
        "from tqdm import tqdm"
      ],
      "metadata": {
        "id": "SUYVycYqp99o"
      },
      "execution_count": 36,
      "outputs": []
    },
    {
      "cell_type": "markdown",
      "source": [
        "## Runtime Settings"
      ],
      "metadata": {
        "id": "J7JTlq5vqFqO"
      }
    },
    {
      "cell_type": "code",
      "source": [
        "device = \"cpu\"\n",
        "if torch.cuda.is_available:\n",
        "  print('All good, a Gpu is available')\n",
        "  device = torch.device(\"cuda:0\")  \n",
        "else:\n",
        "  print('Please set GPU via Edit -> Notebook Settings.')"
      ],
      "metadata": {
        "colab": {
          "base_uri": "https://localhost:8080/"
        },
        "id": "u3conRsDqCj5",
        "outputId": "c0e47c35-53f2-405f-d257-e792d19cc2f6"
      },
      "execution_count": 37,
      "outputs": [
        {
          "output_type": "stream",
          "name": "stdout",
          "text": [
            "All good, a Gpu is available\n"
          ]
        }
      ]
    },
    {
      "cell_type": "markdown",
      "source": [
        "## Reproducibility and Deterministic Mode"
      ],
      "metadata": {
        "id": "y9MD4WgoqKRL"
      }
    },
    {
      "cell_type": "code",
      "source": [
        "def fix_random(seed: int) -> None:\n",
        "    \"\"\"Fix all the possible sources of randomness.\n",
        "\n",
        "    Args:\n",
        "        seed: the seed to use. \n",
        "    \"\"\"\n",
        "    np.random.seed(seed)\n",
        "    random.seed(seed)\n",
        "    torch.manual_seed(seed)\n",
        "    torch.cuda.manual_seed(seed)\n",
        "    \n",
        "    torch.backends.cudnn.benchmark = False\n",
        "    torch.backends.cudnn.deterministic = True\n",
        "\n",
        "fix_random(seed=7)"
      ],
      "metadata": {
        "id": "TtXGakBYqIYg"
      },
      "execution_count": 38,
      "outputs": []
    },
    {
      "cell_type": "markdown",
      "source": [
        "## Building Dataset\n",
        "Dataset: [BCCD dataset](https://public.roboflow.com/object-detection/bccd)\n",
        "\n",
        "3 classes (white blood cells, red blood cells, platelets)\n",
        "\n",
        "364 images"
      ],
      "metadata": {
        "id": "BpHDfI4yqS4a"
      }
    },
    {
      "cell_type": "code",
      "source": [
        "# TODO: change dataset, for simplicity\n",
        "from torchvision.datasets import OxfordIIITPet"
      ],
      "metadata": {
        "id": "3MDqC3xDqN7p"
      },
      "execution_count": 55,
      "outputs": []
    },
    {
      "cell_type": "code",
      "source": [
        "# Setting data loading parameters\n",
        "bs = 28\n",
        "n_workers = 2\n",
        "img_transformations = transforms.ToTensor()   # transformations to apply to the input images"
      ],
      "metadata": {
        "id": "ikNKmLDOsgZ7"
      },
      "execution_count": 40,
      "outputs": []
    },
    {
      "cell_type": "code",
      "source": [
        "trainval_ds = OxfordIIITPet(root='./dataset/trainval/',\n",
        "                         split='trainval',\n",
        "                         download=True,\n",
        "                         transform=img_transformations)\n",
        "\n"
      ],
      "metadata": {
        "id": "yt9OAmnLswuV"
      },
      "execution_count": 41,
      "outputs": []
    },
    {
      "cell_type": "markdown",
      "source": [
        "The function passed as [```collate_fn```](https://pytorch.org/docs/stable/data.html) argument is used to collate lists of samples into batches when they have different size. This function is the function that processes the batch you want to return from your `DataLoader`."
      ],
      "metadata": {
        "id": "-vOH2woJwqzV"
      }
    },
    {
      "cell_type": "code",
      "source": [
        "def my_collate(batch):\n",
        "    return tuple(batch)"
      ],
      "metadata": {
        "id": "_ZIuvTQOw6KR"
      },
      "execution_count": 42,
      "outputs": []
    },
    {
      "cell_type": "code",
      "source": [
        "trainval_dl = DataLoader(dataset=trainval_ds,\n",
        "                      batch_size=bs,\n",
        "                      shuffle=True,\n",
        "                      num_workers = n_workers,\n",
        "                      collate_fn=my_collate\n",
        "                      )\n",
        "\n",
        "for i, data in enumerate(trainval_dl):\n",
        "  print(data[0][0].shape)\n",
        "  print(data[0][1])\n",
        "  if i>1:\n",
        "    break"
      ],
      "metadata": {
        "colab": {
          "base_uri": "https://localhost:8080/"
        },
        "id": "bo-zrCPBr93S",
        "outputId": "9f718e8c-ec60-4d11-fa63-28cb1e7afa20"
      },
      "execution_count": 53,
      "outputs": [
        {
          "output_type": "stream",
          "name": "stdout",
          "text": [
            "torch.Size([3, 333, 500])\n",
            "19\n",
            "torch.Size([3, 300, 216])\n",
            "2\n",
            "torch.Size([3, 375, 500])\n",
            "34\n"
          ]
        }
      ]
    },
    {
      "cell_type": "code",
      "source": [],
      "metadata": {
        "id": "ukYhBdOhsAcp"
      },
      "execution_count": null,
      "outputs": []
    }
  ]
}