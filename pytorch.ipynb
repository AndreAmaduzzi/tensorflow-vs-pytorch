{
  "nbformat": 4,
  "nbformat_minor": 0,
  "metadata": {
    "colab": {
      "provenance": [],
      "authorship_tag": "ABX9TyPLp/5SSy4ij10HY2ZijuuS",
      "include_colab_link": true
    },
    "kernelspec": {
      "name": "python3",
      "display_name": "Python 3"
    },
    "language_info": {
      "name": "python"
    }
  },
  "cells": [
    {
      "cell_type": "markdown",
      "metadata": {
        "id": "view-in-github",
        "colab_type": "text"
      },
      "source": [
        "<a href=\"https://colab.research.google.com/github/AndreAmaduzzi/tensorflow-vs-pytorch/blob/main/pytorch.ipynb\" target=\"_parent\"><img src=\"https://colab.research.google.com/assets/colab-badge.svg\" alt=\"Open In Colab\"/></a>"
      ]
    },
    {
      "cell_type": "markdown",
      "source": [
        "# Skin Cancer Classification on Pytorch"
      ],
      "metadata": {
        "id": "r0PqWcnHpdf1"
      }
    },
    {
      "cell_type": "markdown",
      "source": [
        "## Import Dependencies"
      ],
      "metadata": {
        "id": "ACSWVMPKp_Au"
      }
    },
    {
      "cell_type": "code",
      "source": [
        "from __future__ import print_function\n",
        "from __future__ import division\n",
        "\n",
        "import copy\n",
        "import torch\n",
        "import torchvision\n",
        "import torch.nn as nn\n",
        "import torch.optim as optim\n",
        "import torch.utils as utils\n",
        "import matplotlib.pyplot as plt\n",
        "import numpy as np\n",
        "import pandas as pd\n",
        "import random\n",
        "import requests\n",
        "import os\n",
        "import time\n",
        "\n",
        "from pathlib import Path\n",
        "from PIL import Image, ImageDraw, ImageFont\n",
        "from timeit import default_timer as timer\n",
        "from typing import Callable, Dict, List, Tuple, Union\n",
        "from torchvision import datasets, models, transforms\n",
        "from torchsummary import summary\n",
        "from torch.optim import lr_scheduler\n",
        "from torch.utils.tensorboard import SummaryWriter\n",
        "from torch.utils.data import DataLoader, Dataset, Subset, random_split\n",
        "from torchvision import transforms\n",
        "from tqdm import tqdm"
      ],
      "metadata": {
        "id": "SUYVycYqp99o"
      },
      "execution_count": 1,
      "outputs": []
    },
    {
      "cell_type": "markdown",
      "source": [
        "## Runtime Settings"
      ],
      "metadata": {
        "id": "J7JTlq5vqFqO"
      }
    },
    {
      "cell_type": "code",
      "source": [
        "device = \"cpu\"\n",
        "if torch.cuda.is_available:\n",
        "  print('All good, a Gpu is available')\n",
        "  device = torch.device(\"cuda:0\")  \n",
        "else:\n",
        "  print('Please set GPU via Edit -> Notebook Settings.')"
      ],
      "metadata": {
        "colab": {
          "base_uri": "https://localhost:8080/"
        },
        "id": "u3conRsDqCj5",
        "outputId": "be889779-819c-4a07-e2bc-e78c8f8a193d"
      },
      "execution_count": 2,
      "outputs": [
        {
          "output_type": "stream",
          "name": "stdout",
          "text": [
            "All good, a Gpu is available\n"
          ]
        }
      ]
    },
    {
      "cell_type": "markdown",
      "source": [
        "## Reproducibility and Deterministic Mode"
      ],
      "metadata": {
        "id": "y9MD4WgoqKRL"
      }
    },
    {
      "cell_type": "code",
      "source": [
        "def fix_random(seed: int) -> None:\n",
        "    \"\"\"Fix all the possible sources of randomness.\n",
        "\n",
        "    Args:\n",
        "        seed: the seed to use. \n",
        "    \"\"\"\n",
        "    np.random.seed(seed)\n",
        "    random.seed(seed)\n",
        "    torch.manual_seed(seed)\n",
        "    torch.cuda.manual_seed(seed)\n",
        "    \n",
        "    torch.backends.cudnn.benchmark = False\n",
        "    torch.backends.cudnn.deterministic = True\n",
        "\n",
        "fix_random(seed=7)"
      ],
      "metadata": {
        "id": "TtXGakBYqIYg"
      },
      "execution_count": 3,
      "outputs": []
    },
    {
      "cell_type": "markdown",
      "source": [
        "## Building Dataset\n",
        "Dataset: [BCCD dataset](https://public.roboflow.com/object-detection/bccd)\n",
        "\n",
        "3 classes (white blood cells, red blood cells, platelets)\n",
        "\n",
        "364 images"
      ],
      "metadata": {
        "id": "BpHDfI4yqS4a"
      }
    },
    {
      "cell_type": "code",
      "source": [
        "! git clone https://github.com/Shenggan/BCCD_Dataset.git\n",
        "%cd \"BCCD_Dataset/\""
      ],
      "metadata": {
        "colab": {
          "base_uri": "https://localhost:8080/"
        },
        "id": "l_oHP153lMlH",
        "outputId": "d4699f96-1a5f-4d68-a4de-e0d30aa103d9"
      },
      "execution_count": null,
      "outputs": [
        {
          "output_type": "stream",
          "name": "stdout",
          "text": [
            "fatal: destination path 'BCCD_Dataset' already exists and is not an empty directory.\n",
            "/content/BCCD_Dataset\n"
          ]
        }
      ]
    },
    {
      "cell_type": "code",
      "source": [
        "!ls"
      ],
      "metadata": {
        "colab": {
          "base_uri": "https://localhost:8080/"
        },
        "id": "iUzvfzbplW8Q",
        "outputId": "ea96131e-e8c7-4c5f-ac8f-898c3205e2d8"
      },
      "execution_count": null,
      "outputs": [
        {
          "output_type": "stream",
          "name": "stdout",
          "text": [
            "BCCD\t example.jpg  LICENSE  README.md  test.csv\n",
            "dataset  export.py    plot.py  scripts\n"
          ]
        }
      ]
    },
    {
      "cell_type": "code",
      "source": [
        "def parse_annotations_file(path_annotations):\n",
        "  return 0"
      ],
      "metadata": {
        "id": "3Rlt4lI3tgVm"
      },
      "execution_count": null,
      "outputs": []
    },
    {
      "cell_type": "code",
      "source": [
        "class BCCDDataset(Dataset):\n",
        "    def __init__(\n",
        "        self,\n",
        "        split: str,\n",
        "        path_images: str,\n",
        "        ext_images: str,\n",
        "        path_annotations: str,\n",
        "        path_splits: str,\n",
        "        transforms: torchvision.transforms = None,\n",
        "    ) -> None:\n",
        "        \"\"\"Init the dataset\n",
        "\n",
        "        Args:\n",
        "            path_images: the path to the folder containing the images.\n",
        "            ext_images: extension of the images.\n",
        "            path_annotations: the path to the folder containing the annotations.\n",
        "            path_splits: the path with the image names for each split\n",
        "            transforms: the transformation to apply to the dataset.\n",
        "        \"\"\"\n",
        "        imgs = []\n",
        "        imgs_path = os.path.join(path_splits, f\"{split}.txt\")\n",
        "        with open(imgs_path, \"r\") as f:\n",
        "          for line in f:\n",
        "            img = line.rstrip()\n",
        "            imgs.append(img)\n",
        "\n",
        "        self.images = sorted([os.path.join(path_images, img + f\".{ext_images}\") for img in imgs])  # path of each image\n",
        "                \n",
        "        self.transforms = transforms\n",
        "\n",
        "        self.classes = [\"__background__\", \"RBC\", \"WBC\", \"Platelets\"]\n",
        "\n",
        "        # build annotations\n",
        "        path_annotations = sorted([os.path.join(path_annotations, img + \".xml\") for img in imgs])\n",
        "\n",
        "        samples = []\n",
        "        for path in path_annotations: # iterate over each xml => each image\n",
        "          tree = ET.parse(path)\n",
        "          root = tree.getroot()\n",
        "          detections = []\n",
        "          for child in root:\n",
        "            sample = {}\n",
        "            if child.tag == \"object\":\n",
        "              detection = {}\n",
        "              for grandchild in child: # iterate over attributes of the object\n",
        "                if grandchild.tag==\"name\":\n",
        "                  name = grandchild.text\n",
        "                  detection[\"name\"] = name\n",
        "                  detection[\"label\"] = self.classes.index(name)\n",
        "                if grandchild.tag==\"bndbox\":\n",
        "                  xmin = float(grandchild[0].text)\n",
        "                  ymin = float(grandchild[1].text)\n",
        "                  xmax = float(grandchild[2].text)\n",
        "                  ymax = float(grandchild[3].text)\n",
        "                  detection[\"bbox\"] = (xmin, ymin, xmax, ymax)\n",
        "              detections.append(detection)\n",
        "          sample[\"img\"] = path\n",
        "          sample[\"detections\"] = detections\n",
        "          samples.append(sample)\n",
        "\n",
        "        self.annotations = samples\n",
        "\n",
        "        if len(self.images) - len(self.annotations) != 0:\n",
        "            raise AssertionError(\n",
        "                f\"Labels and Images differs in size: {len(self.images)} - {len(self.annotations)}.\"\n",
        "            )\n",
        "\n",
        "    def __getitem__(self, idx):\n",
        "        path_image = self.images[idx]\n",
        "        image = Image.open(path_image).convert(\"RGB\")\n",
        "      \n",
        "        if self.transforms is not None:\n",
        "            image = self.transforms(image)\n",
        "\n",
        "        target = self.annotations[idx][\"detections\"]  # target is a list of dictionaries with keys \"name\", \"label\" and \"bbox\"\n",
        "\n",
        "        return image, target\n",
        "\n",
        "    def __len__(self):\n",
        "        return len(self.images)"
      ],
      "metadata": {
        "id": "p1pZoCAIsJgl"
      },
      "execution_count": null,
      "outputs": []
    },
    {
      "cell_type": "code",
      "source": [
        "# Setting data loading parameters\n",
        "bs = 28\n",
        "n_workers = 2\n",
        "img_transformations = transforms.ToTensor()   # transformations to apply to the input images"
      ],
      "metadata": {
        "id": "ikNKmLDOsgZ7"
      },
      "execution_count": null,
      "outputs": []
    },
    {
      "cell_type": "code",
      "source": [
        "def draw_boxes(image: Image,\n",
        "               targets: Dict,\n",
        "               scores: List[float],\n",
        "               colors: List[List[float]],\n",
        "               normalized_coordinates: bool,\n",
        "               add_text: bool = True) -> Image:\n",
        "    \"\"\"Draws a rectangle around each object together with the name of the category and the prediction score using a \n",
        "    different color for each category.\n",
        "\n",
        "    Args:\n",
        "        image: the input image.\n",
        "        boxes: the bounding boxes in the format [x_min, y_min, x_max, y_max] \n",
        "               for all the objects in the image.\n",
        "        classes: the name of the classes for all the objects in the image.\n",
        "        labels: the labels for all the objects in the image.\n",
        "        scores: the predicted scores for all the objects in the image..\n",
        "        colors: the colors to use for each class of object.\n",
        "        normalized_coordinates: if true the coordinates are multiplied \n",
        "                                according to the height and width of the image.\n",
        "        add_text: if true add a box with the name of the category and \n",
        "                  the score.\n",
        "\n",
        "    Returns:\n",
        "        The generated image.\n",
        "    \"\"\"\n",
        "    font = ImageFont.truetype('/usr/share/fonts/truetype/liberation/LiberationMono-Regular.ttf', 30)\n",
        "    image_with_bb = copy.deepcopy(image)\n",
        "    painter = ImageDraw.Draw(image_with_bb)\n",
        "\n",
        "    boxes = []\n",
        "    labels= []\n",
        "    names = []\n",
        "    for target in targets:\n",
        "      boxes.append(target[\"bbox\"])\n",
        "      labels.append(target[\"label\"])\n",
        "      names.append(target[\"name\"])\n",
        "\n",
        "    for i, (box, label) in enumerate(zip(boxes, labels)):        \n",
        "        color = tuple(colors[label].astype(np.int32))\n",
        "        x_min, y_min, x_max, y_max = box\n",
        "        \n",
        "        if normalized_coordinates:\n",
        "            width, height = image.size\n",
        "            x_min *= width\n",
        "            y_min *= height\n",
        "            x_max *= width\n",
        "            y_max *= height\n",
        "\n",
        "        coord_bb = [(x_min, y_min), (x_max, y_max)]\n",
        "        painter.rectangle(coord_bb, outline=color, width=4)\n",
        "        \n",
        "        if add_text:            \n",
        "            label = labels[i]\n",
        "            score = scores[i]\n",
        "            name = names[i]\n",
        "            text_in_box = f'{name}-{score:.2f}'\n",
        "            text_bottom = y_max\n",
        "            text_width, text_height = font.getsize(text_in_box)\n",
        "            margin = np.ceil(0.05 * text_height)\n",
        "            painter.rectangle([(x_min, text_bottom - text_height - 2 * margin), \n",
        "                               (x_min + text_width, text_bottom)], fill=color)\n",
        "            \n",
        "            painter.text((x_min + margin, text_bottom - text_height - margin), \n",
        "                         text_in_box, fill='black', font=font)\n",
        "\n",
        "    return image_with_bb"
      ],
      "metadata": {
        "id": "AHxoXYn_7Cxp"
      },
      "execution_count": null,
      "outputs": []
    },
    {
      "cell_type": "code",
      "source": [
        "def generate_colors(num_colors: int) -> np.array:\n",
        "    \"\"\"Generates an array with RGB triplets representing colors.\n",
        "\n",
        "    Args:\n",
        "        num_colors: the number of colors to generate.\n",
        "\n",
        "    Returns: \n",
        "        the generated colors.\n",
        "    \"\"\"\n",
        "    np.random.seed(0)\n",
        "    colors = np.random.uniform(0, 255, size=(num_colors, 3))\n",
        "    time_in_ms = 1000 * time.time()\n",
        "    np.random.seed(int(time_in_ms) % 2 ** 32)\n",
        "\n",
        "    return colors"
      ],
      "metadata": {
        "id": "RNBHR9aW8YGY"
      },
      "execution_count": null,
      "outputs": []
    },
    {
      "cell_type": "code",
      "source": [
        "colors_mi = generate_colors(4)"
      ],
      "metadata": {
        "id": "oo6Wvg8C8hjX"
      },
      "execution_count": null,
      "outputs": []
    },
    {
      "cell_type": "code",
      "source": [
        "train_ds = BCCDDataset(path_images = \"BCCD/JPEGImages\",\n",
        "                            split = \"train\",\n",
        "                            ext_images = \"jpg\",\n",
        "                            path_annotations = \"BCCD/Annotations\",\n",
        "                            path_splits = \"BCCD/ImageSets/Main\",\n",
        "                            transforms=img_transformations)\n",
        "\n",
        "val_ds = BCCDDataset(path_images = \"BCCD/JPEGImages\",\n",
        "                            split = \"val\",\n",
        "                            ext_images = \"jpg\",\n",
        "                            path_annotations = \"BCCD/Annotations\",\n",
        "                            path_splits = \"BCCD/ImageSets/Main\",\n",
        "                            transforms=img_transformations)\n",
        "\n",
        "test_ds = BCCDDataset(path_images = \"BCCD/JPEGImages\",\n",
        "                            split = \"test\",\n",
        "                            ext_images = \"jpg\",\n",
        "                            path_annotations = \"BCCD/Annotations\",\n",
        "                            path_splits = \"BCCD/ImageSets/Main\",\n",
        "                            transforms=img_transformations)\n"
      ],
      "metadata": {
        "id": "DauZYjLptBAV"
      },
      "execution_count": null,
      "outputs": []
    },
    {
      "cell_type": "code",
      "source": [
        "print('train: ', len(train_ds))\n",
        "print('val: ', len(val_ds))\n",
        "print('test: ', len(test_ds))"
      ],
      "metadata": {
        "colab": {
          "base_uri": "https://localhost:8080/"
        },
        "id": "wq0GZAAmDouZ",
        "outputId": "6f1824f4-f179-40bc-983d-29a7269171ca"
      },
      "execution_count": null,
      "outputs": [
        {
          "output_type": "stream",
          "name": "stdout",
          "text": [
            "train:  205\n",
            "val:  87\n",
            "test:  72\n"
          ]
        }
      ]
    },
    {
      "cell_type": "code",
      "source": [
        "#@title Show BCCD Train Dataset { run: \"auto\", display-mode: \"form\" }\n",
        "index_sample = 152  #@param {type:\"slider\", min:0, max:200, step:1}\n",
        "\n",
        "\n",
        "image, targets = train_ds[index_sample]\n",
        "\n",
        "print(image.shape)\n",
        "print('targets:', targets)\n",
        "\n",
        "image = transforms.ToPILImage()(image)\n",
        "\n",
        "cell_with_bb = draw_boxes(image,\n",
        "                          targets = targets,\n",
        "                          scores=[1.0] * len(targets),\n",
        "                          colors=colors_mi,\n",
        "                          normalized_coordinates=False)\n",
        "plt.imshow(cell_with_bb)\n",
        "plt.axis(\"off\")\n",
        "plt.show()\n"
      ],
      "metadata": {
        "colab": {
          "base_uri": "https://localhost:8080/",
          "height": 303
        },
        "id": "Nq7-j5nU_B6K",
        "outputId": "6f80ba30-6651-48ce-8fb3-4ea0fef8b32b"
      },
      "execution_count": null,
      "outputs": [
        {
          "output_type": "stream",
          "name": "stdout",
          "text": [
            "torch.Size([3, 480, 640])\n",
            "targets: [{'name': 'RBC', 'label': 1, 'bbox': (278.0, 196.0, 366.0, 291.0)}, {'name': 'RBC', 'label': 1, 'bbox': (359.0, 239.0, 447.0, 334.0)}, {'name': 'RBC', 'label': 1, 'bbox': (523.0, 110.0, 611.0, 205.0)}, {'name': 'RBC', 'label': 1, 'bbox': (447.0, 198.0, 568.0, 309.0)}, {'name': 'RBC', 'label': 1, 'bbox': (183.0, 95.0, 304.0, 206.0)}, {'name': 'RBC', 'label': 1, 'bbox': (164.0, 201.0, 268.0, 307.0)}, {'name': 'RBC', 'label': 1, 'bbox': (191.0, 1.0, 295.0, 105.0)}, {'name': 'RBC', 'label': 1, 'bbox': (90.0, 171.0, 194.0, 277.0)}, {'name': 'RBC', 'label': 1, 'bbox': (496.0, 304.0, 600.0, 410.0)}, {'name': 'RBC', 'label': 1, 'bbox': (271.0, 338.0, 375.0, 444.0)}, {'name': 'RBC', 'label': 1, 'bbox': (157.0, 370.0, 261.0, 476.0)}, {'name': 'RBC', 'label': 1, 'bbox': (1.0, 311.0, 104.0, 417.0)}, {'name': 'RBC', 'label': 1, 'bbox': (104.0, 285.0, 208.0, 391.0)}, {'name': 'WBC', 'label': 2, 'bbox': (305.0, 13.0, 521.0, 214.0)}, {'name': 'Platelets', 'label': 3, 'bbox': (592.0, 277.0, 630.0, 314.0)}]\n"
          ]
        },
        {
          "output_type": "display_data",
          "data": {
            "text/plain": [
              "<Figure size 432x288 with 1 Axes>"
            ],
            "image/png": "[encoded data removed]"
          },
          "metadata": {
            "needs_background": "light"
          }
        }
      ]
    },
    {
      "cell_type": "markdown",
      "source": [
        "## Building skin cancer dataset"
      ],
      "metadata": {
        "id": "Co2EJeSm1suB"
      }
    },
    {
      "cell_type": "markdown",
      "source": [
        "### Load and unzip data\n",
        "Before running the next code cells, the user must download the Skin Cancer Dataset at [this link](https://https://www.kaggle.com/datasets/kmader/skin-cancer-mnist-ham10000) and place it in his Google Drive. "
      ],
      "metadata": {
        "id": "CsifsPaO9sF-"
      }
    },
    {
      "cell_type": "code",
      "source": [
        "from google.colab import drive\n",
        "drive.mount('/content/drive')"
      ],
      "metadata": {
        "id": "F86c3h952Dsm",
        "outputId": "d42dcf7f-3268-45cc-bf02-e8f833dfba0b",
        "colab": {
          "base_uri": "https://localhost:8080/"
        }
      },
      "execution_count": 5,
      "outputs": [
        {
          "output_type": "stream",
          "name": "stdout",
          "text": [
            "Mounted at /content/drive\n"
          ]
        }
      ]
    },
    {
      "cell_type": "code",
      "source": [
        "!cp \"/content/drive/My Drive/archive.zip\" \"archive.zip\""
      ],
      "metadata": {
        "id": "sBsFluVU9J47"
      },
      "execution_count": 6,
      "outputs": []
    },
    {
      "cell_type": "code",
      "source": [
        "!unzip --qq archive.zip -d data"
      ],
      "metadata": {
        "id": "HiEJ7N0j9VzR"
      },
      "execution_count": 7,
      "outputs": []
    },
    {
      "cell_type": "markdown",
      "source": [
        "### Data preparation"
      ],
      "metadata": {
        "id": "DLMpu6PBAKxG"
      }
    },
    {
      "cell_type": "code",
      "source": [
        "root = 'data/'\n",
        "metadata = pd.read_csv(os.path.join(root, \"HAM10000_metadata.csv\"))\n",
        "metadata.head()"
      ],
      "metadata": {
        "colab": {
          "base_uri": "https://localhost:8080/",
          "height": 206
        },
        "id": "onDStiU7-GCL",
        "outputId": "bf9546f1-f3ab-4734-bb5c-7011e83c8a57"
      },
      "execution_count": 8,
      "outputs": [
        {
          "output_type": "execute_result",
          "data": {
            "text/plain": [
              "     lesion_id      image_id   dx dx_type   age   sex localization\n",
              "0  HAM_0000118  ISIC_0027419  bkl   histo  80.0  male        scalp\n",
              "1  HAM_0000118  ISIC_0025030  bkl   histo  80.0  male        scalp\n",
              "2  HAM_0002730  ISIC_0026769  bkl   histo  80.0  male        scalp\n",
              "3  HAM_0002730  ISIC_0025661  bkl   histo  80.0  male        scalp\n",
              "4  HAM_0001466  ISIC_0031633  bkl   histo  75.0  male          ear"
            ],
            "text/html": [
              "\n",
              "  <div id=\"df-8ce4b2a0-17b1-4c55-a4b0-2fa2b2f09687\">\n",
              "    <div class=\"colab-df-container\">\n",
              "      <div>\n",
              "<style scoped>\n",
              "    .dataframe tbody tr th:only-of-type {\n",
              "        vertical-align: middle;\n",
              "    }\n",
              "\n",
              "    .dataframe tbody tr th {\n",
              "        vertical-align: top;\n",
              "    }\n",
              "\n",
              "    .dataframe thead th {\n",
              "        text-align: right;\n",
              "    }\n",
              "</style>\n",
              "<table border=\"1\" class=\"dataframe\">\n",
              "  <thead>\n",
              "    <tr style=\"text-align: right;\">\n",
              "      <th></th>\n",
              "      <th>lesion_id</th>\n",
              "      <th>image_id</th>\n",
              "      <th>dx</th>\n",
              "      <th>dx_type</th>\n",
              "      <th>age</th>\n",
              "      <th>sex</th>\n",
              "      <th>localization</th>\n",
              "    </tr>\n",
              "  </thead>\n",
              "  <tbody>\n",
              "    <tr>\n",
              "      <th>0</th>\n",
              "      <td>HAM_0000118</td>\n",
              "      <td>ISIC_0027419</td>\n",
              "      <td>bkl</td>\n",
              "      <td>histo</td>\n",
              "      <td>80.0</td>\n",
              "      <td>male</td>\n",
              "      <td>scalp</td>\n",
              "    </tr>\n",
              "    <tr>\n",
              "      <th>1</th>\n",
              "      <td>HAM_0000118</td>\n",
              "      <td>ISIC_0025030</td>\n",
              "      <td>bkl</td>\n",
              "      <td>histo</td>\n",
              "      <td>80.0</td>\n",
              "      <td>male</td>\n",
              "      <td>scalp</td>\n",
              "    </tr>\n",
              "    <tr>\n",
              "      <th>2</th>\n",
              "      <td>HAM_0002730</td>\n",
              "      <td>ISIC_0026769</td>\n",
              "      <td>bkl</td>\n",
              "      <td>histo</td>\n",
              "      <td>80.0</td>\n",
              "      <td>male</td>\n",
              "      <td>scalp</td>\n",
              "    </tr>\n",
              "    <tr>\n",
              "      <th>3</th>\n",
              "      <td>HAM_0002730</td>\n",
              "      <td>ISIC_0025661</td>\n",
              "      <td>bkl</td>\n",
              "      <td>histo</td>\n",
              "      <td>80.0</td>\n",
              "      <td>male</td>\n",
              "      <td>scalp</td>\n",
              "    </tr>\n",
              "    <tr>\n",
              "      <th>4</th>\n",
              "      <td>HAM_0001466</td>\n",
              "      <td>ISIC_0031633</td>\n",
              "      <td>bkl</td>\n",
              "      <td>histo</td>\n",
              "      <td>75.0</td>\n",
              "      <td>male</td>\n",
              "      <td>ear</td>\n",
              "    </tr>\n",
              "  </tbody>\n",
              "</table>\n",
              "</div>\n",
              "      <button class=\"colab-df-convert\" onclick=\"convertToInteractive('df-8ce4b2a0-17b1-4c55-a4b0-2fa2b2f09687')\"\n",
              "              title=\"Convert this dataframe to an interactive table.\"\n",
              "              style=\"display:none;\">\n",
              "        \n",
              "  <svg xmlns=\"http://www.w3.org/2000/svg\" height=\"24px\"viewBox=\"0 0 24 24\"\n",
              "       width=\"24px\">\n",
              "    <path d=\"M0 0h24v24H0V0z\" fill=\"none\"/>\n",
              "    <path d=\"M18.56 5.44l.94 2.06.94-2.06 2.06-.94-2.06-.94-.94-2.06-.94 2.06-2.06.94zm-11 1L8.5 8.5l.94-2.06 2.06-.94-2.06-.94L8.5 2.5l-.94 2.06-2.06.94zm10 10l.94 2.06.94-2.06 2.06-.94-2.06-.94-.94-2.06-.94 2.06-2.06.94z\"/><path d=\"M17.41 7.96l-1.37-1.37c-.4-.4-.92-.59-1.43-.59-.52 0-1.04.2-1.43.59L10.3 9.45l-7.72 7.72c-.78.78-.78 2.05 0 2.83L4 21.41c.39.39.9.59 1.41.59.51 0 1.02-.2 1.41-.59l7.78-7.78 2.81-2.81c.8-.78.8-2.07 0-2.86zM5.41 20L4 18.59l7.72-7.72 1.47 1.35L5.41 20z\"/>\n",
              "  </svg>\n",
              "      </button>\n",
              "      \n",
              "  <style>\n",
              "    .colab-df-container {\n",
              "      display:flex;\n",
              "      flex-wrap:wrap;\n",
              "      gap: 12px;\n",
              "    }\n",
              "\n",
              "    .colab-df-convert {\n",
              "      background-color: #E8F0FE;\n",
              "      border: none;\n",
              "      border-radius: 50%;\n",
              "      cursor: pointer;\n",
              "      display: none;\n",
              "      fill: #1967D2;\n",
              "      height: 32px;\n",
              "      padding: 0 0 0 0;\n",
              "      width: 32px;\n",
              "    }\n",
              "\n",
              "    .colab-df-convert:hover {\n",
              "      background-color: #E2EBFA;\n",
              "      box-shadow: 0px 1px 2px rgba(60, 64, 67, 0.3), 0px 1px 3px 1px rgba(60, 64, 67, 0.15);\n",
              "      fill: #174EA6;\n",
              "    }\n",
              "\n",
              "    [theme=dark] .colab-df-convert {\n",
              "      background-color: #3B4455;\n",
              "      fill: #D2E3FC;\n",
              "    }\n",
              "\n",
              "    [theme=dark] .colab-df-convert:hover {\n",
              "      background-color: #434B5C;\n",
              "      box-shadow: 0px 1px 3px 1px rgba(0, 0, 0, 0.15);\n",
              "      filter: drop-shadow(0px 1px 2px rgba(0, 0, 0, 0.3));\n",
              "      fill: #FFFFFF;\n",
              "    }\n",
              "  </style>\n",
              "\n",
              "      <script>\n",
              "        const buttonEl =\n",
              "          document.querySelector('#df-8ce4b2a0-17b1-4c55-a4b0-2fa2b2f09687 button.colab-df-convert');\n",
              "        buttonEl.style.display =\n",
              "          google.colab.kernel.accessAllowed ? 'block' : 'none';\n",
              "\n",
              "        async function convertToInteractive(key) {\n",
              "          const element = document.querySelector('#df-8ce4b2a0-17b1-4c55-a4b0-2fa2b2f09687');\n",
              "          const dataTable =\n",
              "            await google.colab.kernel.invokeFunction('convertToInteractive',\n",
              "                                                     [key], {});\n",
              "          if (!dataTable) return;\n",
              "\n",
              "          const docLinkHtml = 'Like what you see? Visit the ' +\n",
              "            '<a target=\"_blank\" href=https://colab.research.google.com/notebooks/data_table.ipynb>data table notebook</a>'\n",
              "            + ' to learn more about interactive tables.';\n",
              "          element.innerHTML = '';\n",
              "          dataTable['output_type'] = 'display_data';\n",
              "          await google.colab.output.renderOutput(dataTable, element);\n",
              "          const docLink = document.createElement('div');\n",
              "          docLink.innerHTML = docLinkHtml;\n",
              "          element.appendChild(docLink);\n",
              "        }\n",
              "      </script>\n",
              "    </div>\n",
              "  </div>\n",
              "  "
            ]
          },
          "metadata": {},
          "execution_count": 8
        }
      ]
    },
    {
      "cell_type": "code",
      "source": [
        "short_to_full_name_dict = {\n",
        "    \"akiec\" : \"Bowen's disease\",\n",
        "    \"bcc\" : \"basal cell carcinoma\" , \n",
        "    \"bkl\" : \"benign keratosis-like lesions\", \n",
        "    \"df\" : \"dermatofibroma\", \n",
        "    \"mel\" : \"melanoma\", \n",
        "    \"nv\" : \"melanocytic nevi\", \n",
        "    \"vasc\" : \"vascular lesions\", \n",
        "}\n",
        "\n",
        "lesion_ID_dict = {\n",
        "    'nv': 0,\n",
        "    'mel': 1,\n",
        "    'bkl': 2,\n",
        "    'bcc': 3,\n",
        "    'akiec': 4,\n",
        "    'vasc': 5,\n",
        "    'df': 6\n",
        "}\n",
        "\n",
        "#  we add the lesion_name and the label for each image\n",
        "metadata[\"label\"] = metadata[\"dx\"].map(lesion_ID_dict)\n",
        "metadata[\"lesion_name\"] = metadata[\"dx\"].map(short_to_full_name_dict)"
      ],
      "metadata": {
        "id": "ZsWdgAZwAO4F"
      },
      "execution_count": 9,
      "outputs": []
    },
    {
      "cell_type": "code",
      "source": [
        "metadata.head()"
      ],
      "metadata": {
        "colab": {
          "base_uri": "https://localhost:8080/",
          "height": 206
        },
        "id": "59I3Pr8LAOuT",
        "outputId": "a727a7e8-af33-48fb-f34d-4104877b1b92"
      },
      "execution_count": 10,
      "outputs": [
        {
          "output_type": "execute_result",
          "data": {
            "text/plain": [
              "     lesion_id      image_id   dx dx_type   age   sex localization  label  \\\n",
              "0  HAM_0000118  ISIC_0027419  bkl   histo  80.0  male        scalp      2   \n",
              "1  HAM_0000118  ISIC_0025030  bkl   histo  80.0  male        scalp      2   \n",
              "2  HAM_0002730  ISIC_0026769  bkl   histo  80.0  male        scalp      2   \n",
              "3  HAM_0002730  ISIC_0025661  bkl   histo  80.0  male        scalp      2   \n",
              "4  HAM_0001466  ISIC_0031633  bkl   histo  75.0  male          ear      2   \n",
              "\n",
              "                     lesion_name  \n",
              "0  benign keratosis-like lesions  \n",
              "1  benign keratosis-like lesions  \n",
              "2  benign keratosis-like lesions  \n",
              "3  benign keratosis-like lesions  \n",
              "4  benign keratosis-like lesions  "
            ],
            "text/html": [
              "\n",
              "  <div id=\"df-9390bcf4-81fe-408b-b24a-ac94246ef8d1\">\n",
              "    <div class=\"colab-df-container\">\n",
              "      <div>\n",
              "<style scoped>\n",
              "    .dataframe tbody tr th:only-of-type {\n",
              "        vertical-align: middle;\n",
              "    }\n",
              "\n",
              "    .dataframe tbody tr th {\n",
              "        vertical-align: top;\n",
              "    }\n",
              "\n",
              "    .dataframe thead th {\n",
              "        text-align: right;\n",
              "    }\n",
              "</style>\n",
              "<table border=\"1\" class=\"dataframe\">\n",
              "  <thead>\n",
              "    <tr style=\"text-align: right;\">\n",
              "      <th></th>\n",
              "      <th>lesion_id</th>\n",
              "      <th>image_id</th>\n",
              "      <th>dx</th>\n",
              "      <th>dx_type</th>\n",
              "      <th>age</th>\n",
              "      <th>sex</th>\n",
              "      <th>localization</th>\n",
              "      <th>label</th>\n",
              "      <th>lesion_name</th>\n",
              "    </tr>\n",
              "  </thead>\n",
              "  <tbody>\n",
              "    <tr>\n",
              "      <th>0</th>\n",
              "      <td>HAM_0000118</td>\n",
              "      <td>ISIC_0027419</td>\n",
              "      <td>bkl</td>\n",
              "      <td>histo</td>\n",
              "      <td>80.0</td>\n",
              "      <td>male</td>\n",
              "      <td>scalp</td>\n",
              "      <td>2</td>\n",
              "      <td>benign keratosis-like lesions</td>\n",
              "    </tr>\n",
              "    <tr>\n",
              "      <th>1</th>\n",
              "      <td>HAM_0000118</td>\n",
              "      <td>ISIC_0025030</td>\n",
              "      <td>bkl</td>\n",
              "      <td>histo</td>\n",
              "      <td>80.0</td>\n",
              "      <td>male</td>\n",
              "      <td>scalp</td>\n",
              "      <td>2</td>\n",
              "      <td>benign keratosis-like lesions</td>\n",
              "    </tr>\n",
              "    <tr>\n",
              "      <th>2</th>\n",
              "      <td>HAM_0002730</td>\n",
              "      <td>ISIC_0026769</td>\n",
              "      <td>bkl</td>\n",
              "      <td>histo</td>\n",
              "      <td>80.0</td>\n",
              "      <td>male</td>\n",
              "      <td>scalp</td>\n",
              "      <td>2</td>\n",
              "      <td>benign keratosis-like lesions</td>\n",
              "    </tr>\n",
              "    <tr>\n",
              "      <th>3</th>\n",
              "      <td>HAM_0002730</td>\n",
              "      <td>ISIC_0025661</td>\n",
              "      <td>bkl</td>\n",
              "      <td>histo</td>\n",
              "      <td>80.0</td>\n",
              "      <td>male</td>\n",
              "      <td>scalp</td>\n",
              "      <td>2</td>\n",
              "      <td>benign keratosis-like lesions</td>\n",
              "    </tr>\n",
              "    <tr>\n",
              "      <th>4</th>\n",
              "      <td>HAM_0001466</td>\n",
              "      <td>ISIC_0031633</td>\n",
              "      <td>bkl</td>\n",
              "      <td>histo</td>\n",
              "      <td>75.0</td>\n",
              "      <td>male</td>\n",
              "      <td>ear</td>\n",
              "      <td>2</td>\n",
              "      <td>benign keratosis-like lesions</td>\n",
              "    </tr>\n",
              "  </tbody>\n",
              "</table>\n",
              "</div>\n",
              "      <button class=\"colab-df-convert\" onclick=\"convertToInteractive('df-9390bcf4-81fe-408b-b24a-ac94246ef8d1')\"\n",
              "              title=\"Convert this dataframe to an interactive table.\"\n",
              "              style=\"display:none;\">\n",
              "        \n",
              "  <svg xmlns=\"http://www.w3.org/2000/svg\" height=\"24px\"viewBox=\"0 0 24 24\"\n",
              "       width=\"24px\">\n",
              "    <path d=\"M0 0h24v24H0V0z\" fill=\"none\"/>\n",
              "    <path d=\"M18.56 5.44l.94 2.06.94-2.06 2.06-.94-2.06-.94-.94-2.06-.94 2.06-2.06.94zm-11 1L8.5 8.5l.94-2.06 2.06-.94-2.06-.94L8.5 2.5l-.94 2.06-2.06.94zm10 10l.94 2.06.94-2.06 2.06-.94-2.06-.94-.94-2.06-.94 2.06-2.06.94z\"/><path d=\"M17.41 7.96l-1.37-1.37c-.4-.4-.92-.59-1.43-.59-.52 0-1.04.2-1.43.59L10.3 9.45l-7.72 7.72c-.78.78-.78 2.05 0 2.83L4 21.41c.39.39.9.59 1.41.59.51 0 1.02-.2 1.41-.59l7.78-7.78 2.81-2.81c.8-.78.8-2.07 0-2.86zM5.41 20L4 18.59l7.72-7.72 1.47 1.35L5.41 20z\"/>\n",
              "  </svg>\n",
              "      </button>\n",
              "      \n",
              "  <style>\n",
              "    .colab-df-container {\n",
              "      display:flex;\n",
              "      flex-wrap:wrap;\n",
              "      gap: 12px;\n",
              "    }\n",
              "\n",
              "    .colab-df-convert {\n",
              "      background-color: #E8F0FE;\n",
              "      border: none;\n",
              "      border-radius: 50%;\n",
              "      cursor: pointer;\n",
              "      display: none;\n",
              "      fill: #1967D2;\n",
              "      height: 32px;\n",
              "      padding: 0 0 0 0;\n",
              "      width: 32px;\n",
              "    }\n",
              "\n",
              "    .colab-df-convert:hover {\n",
              "      background-color: #E2EBFA;\n",
              "      box-shadow: 0px 1px 2px rgba(60, 64, 67, 0.3), 0px 1px 3px 1px rgba(60, 64, 67, 0.15);\n",
              "      fill: #174EA6;\n",
              "    }\n",
              "\n",
              "    [theme=dark] .colab-df-convert {\n",
              "      background-color: #3B4455;\n",
              "      fill: #D2E3FC;\n",
              "    }\n",
              "\n",
              "    [theme=dark] .colab-df-convert:hover {\n",
              "      background-color: #434B5C;\n",
              "      box-shadow: 0px 1px 3px 1px rgba(0, 0, 0, 0.15);\n",
              "      filter: drop-shadow(0px 1px 2px rgba(0, 0, 0, 0.3));\n",
              "      fill: #FFFFFF;\n",
              "    }\n",
              "  </style>\n",
              "\n",
              "      <script>\n",
              "        const buttonEl =\n",
              "          document.querySelector('#df-9390bcf4-81fe-408b-b24a-ac94246ef8d1 button.colab-df-convert');\n",
              "        buttonEl.style.display =\n",
              "          google.colab.kernel.accessAllowed ? 'block' : 'none';\n",
              "\n",
              "        async function convertToInteractive(key) {\n",
              "          const element = document.querySelector('#df-9390bcf4-81fe-408b-b24a-ac94246ef8d1');\n",
              "          const dataTable =\n",
              "            await google.colab.kernel.invokeFunction('convertToInteractive',\n",
              "                                                     [key], {});\n",
              "          if (!dataTable) return;\n",
              "\n",
              "          const docLinkHtml = 'Like what you see? Visit the ' +\n",
              "            '<a target=\"_blank\" href=https://colab.research.google.com/notebooks/data_table.ipynb>data table notebook</a>'\n",
              "            + ' to learn more about interactive tables.';\n",
              "          element.innerHTML = '';\n",
              "          dataTable['output_type'] = 'display_data';\n",
              "          await google.colab.output.renderOutput(dataTable, element);\n",
              "          const docLink = document.createElement('div');\n",
              "          docLink.innerHTML = docLinkHtml;\n",
              "          element.appendChild(docLink);\n",
              "        }\n",
              "      </script>\n",
              "    </div>\n",
              "  </div>\n",
              "  "
            ]
          },
          "metadata": {},
          "execution_count": 10
        }
      ]
    },
    {
      "cell_type": "code",
      "source": [
        "short_to_full_name_dict.values()"
      ],
      "metadata": {
        "colab": {
          "base_uri": "https://localhost:8080/"
        },
        "id": "DFLuW-0TC5jl",
        "outputId": "da3f0047-70e7-44d5-d255-6474ece3fede"
      },
      "execution_count": 11,
      "outputs": [
        {
          "output_type": "execute_result",
          "data": {
            "text/plain": [
              "dict_values([\"Bowen's disease\", 'basal cell carcinoma', 'benign keratosis-like lesions', 'dermatofibroma', 'melanoma', 'melanocytic nevi', 'vascular lesions'])"
            ]
          },
          "metadata": {},
          "execution_count": 11
        }
      ]
    },
    {
      "cell_type": "code",
      "source": [
        "# Define Dataset Class\n",
        "class SkinCancerDataset(Dataset):\n",
        "    def __init__(\n",
        "        self,\n",
        "        path_images_1: str,\n",
        "        path_images_2: str,\n",
        "        ext_images: str,\n",
        "        annotations: pd.DataFrame,\n",
        "        transforms: torchvision.transforms = None,\n",
        "    ) -> None:\n",
        "        \"\"\"Init the dataset\n",
        "\n",
        "        Args:\n",
        "            path_images: the path to the folder containing the images.\n",
        "            ext_images: the extension of the images.\n",
        "            ext_annotations: the extension of the annotations.\n",
        "            transforms: the transformation to apply to the dataset.\n",
        "        \"\"\"\n",
        "        images_1 = sorted([str(path) for path in Path(path_images_1).rglob(f\"*.{ext_images}\")])\n",
        "        images_2 = sorted([str(path) for path in Path(path_images_2).rglob(f\"*.{ext_images}\")])\n",
        "        self.images = images_1 + images_2\n",
        "\n",
        "        self.annotations = annotations\n",
        "\n",
        "        self.transforms = transforms\n",
        "\n",
        "        self.classes = [disease for disease in short_to_full_name_dict.values()]\n",
        "\n",
        "        self.labels =  self.annotations[\"label\"]\n",
        "\n",
        "    def __getitem__(self, idx):        \n",
        "\n",
        "        label = self.annotations.iloc[idx][\"label\"]\n",
        "        lesion_name = self.annotations.iloc[idx][\"lesion_name\"]\n",
        "        image_id = self.annotations.iloc[idx][\"image_id\"]\n",
        "        \n",
        "        img_found = False\n",
        "\n",
        "        #search for the path of the image\n",
        "        for path_image in self.images:\n",
        "          if image_id in str(path_image):\n",
        "            break\n",
        "\n",
        "        image = Image.open(path_image).convert(\"RGB\")\n",
        "\n",
        "\n",
        "        if self.transforms is not None:\n",
        "            image = self.transforms(image)\n",
        "\n",
        "        return image, label, lesion_name\n",
        "\n",
        "    def __len__(self):\n",
        "        return len(self.images)"
      ],
      "metadata": {
        "id": "QyxfYx3Q4NX4"
      },
      "execution_count": 150,
      "outputs": []
    },
    {
      "cell_type": "code",
      "source": [
        "path_images_1 = os.path.join(root, \"ham10000_images_part_1\")\n",
        "path_images_2 = os.path.join(root, \"ham10000_images_part_2\")\n",
        "ds = SkinCancerDataset(path_images_1, path_images_2, ext_images='jpg', annotations=metadata)"
      ],
      "metadata": {
        "id": "vzpdpWk7D98j"
      },
      "execution_count": 151,
      "outputs": []
    },
    {
      "cell_type": "code",
      "source": [
        "#@title Show Skin Cancer Dataset { run: \"auto\", display-mode: \"form\" }\n",
        "index_sample = 79  #@param {type:\"slider\", min:0, max:200, step:1}\n",
        "\n",
        "image, label, lesion_name = ds[index_sample]\n",
        "\n",
        "plt.title(\"Lesion:%s\" %lesion_name + \" Label: %s\" %label)\n",
        "plt.imshow(image)\n",
        "plt.axis(\"off\")\n",
        "plt.show()"
      ],
      "metadata": {
        "id": "0KIl1ySLSq4s",
        "outputId": "a7096489-e2b9-43b9-eb81-ad8a881f93b9",
        "colab": {
          "base_uri": "https://localhost:8080/",
          "height": 264
        }
      },
      "execution_count": 181,
      "outputs": [
        {
          "output_type": "display_data",
          "data": {
            "text/plain": [
              "<Figure size 432x288 with 1 Axes>"
            ],
            "image/png": "[encoded data removed]"
          },
          "metadata": {
            "needs_background": "light"
          }
        }
      ]
    },
    {
      "cell_type": "code",
      "source": [
        "count_dict = {k:0 for k in ds.classes}\n",
        "print(count_dict)"
      ],
      "metadata": {
        "id": "xMOYMXPejsSi",
        "outputId": "bb9867cb-17c8-47f8-e106-ad46f30eae9d",
        "colab": {
          "base_uri": "https://localhost:8080/"
        }
      },
      "execution_count": 153,
      "outputs": [
        {
          "output_type": "stream",
          "name": "stdout",
          "text": [
            "{\"Bowen's disease\": 0, 'basal cell carcinoma': 0, 'benign keratosis-like lesions': 0, 'dermatofibroma': 0, 'melanoma': 0, 'melanocytic nevi': 0, 'vascular lesions': 0}\n"
          ]
        }
      ]
    },
    {
      "cell_type": "code",
      "source": [
        "def get_class_distribution(dataset):\n",
        "  if isinstance(dataset, Subset):\n",
        "    count_dict = {k:0 for k in dataset.dataset.classes}\n",
        "  elif isinstance(dataset, Dataset):\n",
        "        count_dict = {k:0 for k in dataset.classes}\n",
        "  for image, target, lesion_name in dataset:\n",
        "    count_dict[lesion_name] +=1\n",
        "  return count_dict"
      ],
      "metadata": {
        "id": "8WEaeGUB6peq"
      },
      "execution_count": 176,
      "outputs": []
    },
    {
      "cell_type": "code",
      "source": [
        "class_distr = get_class_distribution(ds)"
      ],
      "metadata": {
        "id": "UTSqI2jEtAbz"
      },
      "execution_count": 177,
      "outputs": []
    },
    {
      "cell_type": "code",
      "source": [
        "plt.xlim([0, len(class_distr)])\n",
        "plt.bar(range(0,len(class_distr)), list(class_distr.values()), align='center')"
      ],
      "metadata": {
        "id": "8rgXEGRIkhSg",
        "outputId": "335c0b8d-5b57-4ff4-e9a9-0db9c602102d",
        "colab": {
          "base_uri": "https://localhost:8080/",
          "height": 285
        }
      },
      "execution_count": 178,
      "outputs": [
        {
          "output_type": "execute_result",
          "data": {
            "text/plain": [
              "<BarContainer object of 7 artists>"
            ]
          },
          "metadata": {},
          "execution_count": 178
        },
        {
          "output_type": "display_data",
          "data": {
            "text/plain": [
              "<Figure size 432x288 with 1 Axes>"
            ],
            "image/png": "[encoded data removed]"
          },
          "metadata": {
            "needs_background": "light"
          }
        }
      ]
    },
    {
      "cell_type": "code",
      "source": [
        "# STANDARD RANDOM SPLIT TRAIN/VAL/TEST\n",
        "train_ds , val_ds, test_ds = torch.utils.data.random_split(ds, [0.8, 0.1, 0.1])"
      ],
      "metadata": {
        "id": "iGhDwkAshJ7o"
      },
      "execution_count": 179,
      "outputs": []
    },
    {
      "cell_type": "code",
      "source": [
        "# check class distribution in train/val/test\n",
        "class_distr_tr = get_class_distribution(train_ds)\n",
        "class_distr_val = get_class_distribution(val_ds)\n",
        "class_distr_test = get_class_distribution(test_ds)"
      ],
      "metadata": {
        "id": "rvnYpMJIhX1J",
        "outputId": "9d925528-894a-44c2-d041-8535502220f4",
        "colab": {
          "base_uri": "https://localhost:8080/",
          "height": 380
        }
      },
      "execution_count": 186,
      "outputs": [
        {
          "output_type": "error",
          "ename": "KeyboardInterrupt",
          "evalue": "ignored",
          "traceback": [
            "\u001b[0;31m---------------------------------------------------------------------------\u001b[0m",
            "\u001b[0;31mKeyboardInterrupt\u001b[0m                         Traceback (most recent call last)",
            "\u001b[0;32m<ipython-input-186-7578f472296d>\u001b[0m in \u001b[0;36m<module>\u001b[0;34m\u001b[0m\n\u001b[1;32m      1\u001b[0m \u001b[0;31m# check class distribution in train/val/test\u001b[0m\u001b[0;34m\u001b[0m\u001b[0;34m\u001b[0m\u001b[0;34m\u001b[0m\u001b[0m\n\u001b[0;32m----> 2\u001b[0;31m \u001b[0mclass_distr_tr\u001b[0m \u001b[0;34m=\u001b[0m \u001b[0mget_class_distribution\u001b[0m\u001b[0;34m(\u001b[0m\u001b[0mtrain_ds\u001b[0m\u001b[0;34m)\u001b[0m\u001b[0;34m\u001b[0m\u001b[0;34m\u001b[0m\u001b[0m\n\u001b[0m\u001b[1;32m      3\u001b[0m \u001b[0mclass_distr_val\u001b[0m \u001b[0;34m=\u001b[0m \u001b[0mget_class_distribution\u001b[0m\u001b[0;34m(\u001b[0m\u001b[0mval_ds\u001b[0m\u001b[0;34m)\u001b[0m\u001b[0;34m\u001b[0m\u001b[0;34m\u001b[0m\u001b[0m\n\u001b[1;32m      4\u001b[0m \u001b[0mclass_distr_test\u001b[0m \u001b[0;34m=\u001b[0m \u001b[0mget_class_distribution\u001b[0m\u001b[0;34m(\u001b[0m\u001b[0mtest_ds\u001b[0m\u001b[0;34m)\u001b[0m\u001b[0;34m\u001b[0m\u001b[0;34m\u001b[0m\u001b[0m\n\u001b[1;32m      5\u001b[0m \u001b[0mprint\u001b[0m\u001b[0;34m(\u001b[0m\u001b[0mclass_distr_tr\u001b[0m\u001b[0;34m)\u001b[0m\u001b[0;34m\u001b[0m\u001b[0;34m\u001b[0m\u001b[0m\n",
            "\u001b[0;32m<ipython-input-176-7a0338950d2b>\u001b[0m in \u001b[0;36mget_class_distribution\u001b[0;34m(dataset)\u001b[0m\n\u001b[1;32m      4\u001b[0m   \u001b[0;32melif\u001b[0m \u001b[0misinstance\u001b[0m\u001b[0;34m(\u001b[0m\u001b[0mdataset\u001b[0m\u001b[0;34m,\u001b[0m \u001b[0mDataset\u001b[0m\u001b[0;34m)\u001b[0m\u001b[0;34m:\u001b[0m\u001b[0;34m\u001b[0m\u001b[0;34m\u001b[0m\u001b[0m\n\u001b[1;32m      5\u001b[0m         \u001b[0mcount_dict\u001b[0m \u001b[0;34m=\u001b[0m \u001b[0;34m{\u001b[0m\u001b[0mk\u001b[0m\u001b[0;34m:\u001b[0m\u001b[0;36m0\u001b[0m \u001b[0;32mfor\u001b[0m \u001b[0mk\u001b[0m \u001b[0;32min\u001b[0m \u001b[0mdataset\u001b[0m\u001b[0;34m.\u001b[0m\u001b[0mclasses\u001b[0m\u001b[0;34m}\u001b[0m\u001b[0;34m\u001b[0m\u001b[0;34m\u001b[0m\u001b[0m\n\u001b[0;32m----> 6\u001b[0;31m   \u001b[0;32mfor\u001b[0m \u001b[0mimage\u001b[0m\u001b[0;34m,\u001b[0m \u001b[0mtarget\u001b[0m\u001b[0;34m,\u001b[0m \u001b[0mlesion_name\u001b[0m \u001b[0;32min\u001b[0m \u001b[0mdataset\u001b[0m\u001b[0;34m:\u001b[0m\u001b[0;34m\u001b[0m\u001b[0;34m\u001b[0m\u001b[0m\n\u001b[0m\u001b[1;32m      7\u001b[0m     \u001b[0mcount_dict\u001b[0m\u001b[0;34m[\u001b[0m\u001b[0mlesion_name\u001b[0m\u001b[0;34m]\u001b[0m \u001b[0;34m+=\u001b[0m\u001b[0;36m1\u001b[0m\u001b[0;34m\u001b[0m\u001b[0;34m\u001b[0m\u001b[0m\n\u001b[1;32m      8\u001b[0m   \u001b[0;32mreturn\u001b[0m \u001b[0mcount_dict\u001b[0m\u001b[0;34m\u001b[0m\u001b[0;34m\u001b[0m\u001b[0m\n",
            "\u001b[0;32m/usr/local/lib/python3.8/dist-packages/torch/utils/data/dataset.py\u001b[0m in \u001b[0;36m__getitem__\u001b[0;34m(self, idx)\u001b[0m\n\u001b[1;32m    293\u001b[0m         \u001b[0;32mif\u001b[0m \u001b[0misinstance\u001b[0m\u001b[0;34m(\u001b[0m\u001b[0midx\u001b[0m\u001b[0;34m,\u001b[0m \u001b[0mlist\u001b[0m\u001b[0;34m)\u001b[0m\u001b[0;34m:\u001b[0m\u001b[0;34m\u001b[0m\u001b[0;34m\u001b[0m\u001b[0m\n\u001b[1;32m    294\u001b[0m             \u001b[0;32mreturn\u001b[0m \u001b[0mself\u001b[0m\u001b[0;34m.\u001b[0m\u001b[0mdataset\u001b[0m\u001b[0;34m[\u001b[0m\u001b[0;34m[\u001b[0m\u001b[0mself\u001b[0m\u001b[0;34m.\u001b[0m\u001b[0mindices\u001b[0m\u001b[0;34m[\u001b[0m\u001b[0mi\u001b[0m\u001b[0;34m]\u001b[0m \u001b[0;32mfor\u001b[0m \u001b[0mi\u001b[0m \u001b[0;32min\u001b[0m \u001b[0midx\u001b[0m\u001b[0;34m]\u001b[0m\u001b[0;34m]\u001b[0m\u001b[0;34m\u001b[0m\u001b[0;34m\u001b[0m\u001b[0m\n\u001b[0;32m--> 295\u001b[0;31m         \u001b[0;32mreturn\u001b[0m \u001b[0mself\u001b[0m\u001b[0;34m.\u001b[0m\u001b[0mdataset\u001b[0m\u001b[0;34m[\u001b[0m\u001b[0mself\u001b[0m\u001b[0;34m.\u001b[0m\u001b[0mindices\u001b[0m\u001b[0;34m[\u001b[0m\u001b[0midx\u001b[0m\u001b[0;34m]\u001b[0m\u001b[0;34m]\u001b[0m\u001b[0;34m\u001b[0m\u001b[0;34m\u001b[0m\u001b[0m\n\u001b[0m\u001b[1;32m    296\u001b[0m \u001b[0;34m\u001b[0m\u001b[0m\n\u001b[1;32m    297\u001b[0m     \u001b[0;32mdef\u001b[0m \u001b[0m__len__\u001b[0m\u001b[0;34m(\u001b[0m\u001b[0mself\u001b[0m\u001b[0;34m)\u001b[0m\u001b[0;34m:\u001b[0m\u001b[0;34m\u001b[0m\u001b[0;34m\u001b[0m\u001b[0m\n",
            "\u001b[0;32m<ipython-input-150-51cedf625bad>\u001b[0m in \u001b[0;36m__getitem__\u001b[0;34m(self, idx)\u001b[0m\n\u001b[1;32m     42\u001b[0m             \u001b[0;32mbreak\u001b[0m\u001b[0;34m\u001b[0m\u001b[0;34m\u001b[0m\u001b[0m\n\u001b[1;32m     43\u001b[0m \u001b[0;34m\u001b[0m\u001b[0m\n\u001b[0;32m---> 44\u001b[0;31m         \u001b[0mimage\u001b[0m \u001b[0;34m=\u001b[0m \u001b[0mImage\u001b[0m\u001b[0;34m.\u001b[0m\u001b[0mopen\u001b[0m\u001b[0;34m(\u001b[0m\u001b[0mpath_image\u001b[0m\u001b[0;34m)\u001b[0m\u001b[0;34m.\u001b[0m\u001b[0mconvert\u001b[0m\u001b[0;34m(\u001b[0m\u001b[0;34m\"RGB\"\u001b[0m\u001b[0;34m)\u001b[0m\u001b[0;34m\u001b[0m\u001b[0;34m\u001b[0m\u001b[0m\n\u001b[0m\u001b[1;32m     45\u001b[0m \u001b[0;34m\u001b[0m\u001b[0m\n\u001b[1;32m     46\u001b[0m \u001b[0;34m\u001b[0m\u001b[0m\n",
            "\u001b[0;32m/usr/local/lib/python3.8/dist-packages/PIL/Image.py\u001b[0m in \u001b[0;36mconvert\u001b[0;34m(self, mode, matrix, dither, palette, colors)\u001b[0m\n\u001b[1;32m    899\u001b[0m         \"\"\"\n\u001b[1;32m    900\u001b[0m \u001b[0;34m\u001b[0m\u001b[0m\n\u001b[0;32m--> 901\u001b[0;31m         \u001b[0mself\u001b[0m\u001b[0;34m.\u001b[0m\u001b[0mload\u001b[0m\u001b[0;34m(\u001b[0m\u001b[0;34m)\u001b[0m\u001b[0;34m\u001b[0m\u001b[0;34m\u001b[0m\u001b[0m\n\u001b[0m\u001b[1;32m    902\u001b[0m \u001b[0;34m\u001b[0m\u001b[0m\n\u001b[1;32m    903\u001b[0m         \u001b[0;32mif\u001b[0m \u001b[0;32mnot\u001b[0m \u001b[0mmode\u001b[0m \u001b[0;32mand\u001b[0m \u001b[0mself\u001b[0m\u001b[0;34m.\u001b[0m\u001b[0mmode\u001b[0m \u001b[0;34m==\u001b[0m \u001b[0;34m\"P\"\u001b[0m\u001b[0;34m:\u001b[0m\u001b[0;34m\u001b[0m\u001b[0;34m\u001b[0m\u001b[0m\n",
            "\u001b[0;32m/usr/local/lib/python3.8/dist-packages/PIL/ImageFile.py\u001b[0m in \u001b[0;36mload\u001b[0;34m(self)\u001b[0m\n\u001b[1;32m    205\u001b[0m                     \u001b[0mself\u001b[0m\u001b[0;34m.\u001b[0m\u001b[0mmap\u001b[0m \u001b[0;34m=\u001b[0m \u001b[0;32mNone\u001b[0m\u001b[0;34m\u001b[0m\u001b[0;34m\u001b[0m\u001b[0m\n\u001b[1;32m    206\u001b[0m \u001b[0;34m\u001b[0m\u001b[0m\n\u001b[0;32m--> 207\u001b[0;31m         \u001b[0mself\u001b[0m\u001b[0;34m.\u001b[0m\u001b[0mload_prepare\u001b[0m\u001b[0;34m(\u001b[0m\u001b[0;34m)\u001b[0m\u001b[0;34m\u001b[0m\u001b[0;34m\u001b[0m\u001b[0m\n\u001b[0m\u001b[1;32m    208\u001b[0m         \u001b[0merr_code\u001b[0m \u001b[0;34m=\u001b[0m \u001b[0;34m-\u001b[0m\u001b[0;36m3\u001b[0m  \u001b[0;31m# initialize to unknown error\u001b[0m\u001b[0;34m\u001b[0m\u001b[0;34m\u001b[0m\u001b[0m\n\u001b[1;32m    209\u001b[0m         \u001b[0;32mif\u001b[0m \u001b[0;32mnot\u001b[0m \u001b[0mself\u001b[0m\u001b[0;34m.\u001b[0m\u001b[0mmap\u001b[0m\u001b[0;34m:\u001b[0m\u001b[0;34m\u001b[0m\u001b[0;34m\u001b[0m\u001b[0m\n",
            "\u001b[0;32m/usr/local/lib/python3.8/dist-packages/PIL/ImageFile.py\u001b[0m in \u001b[0;36mload_prepare\u001b[0;34m(self)\u001b[0m\n\u001b[1;32m    275\u001b[0m         \u001b[0;31m# create image memory if necessary\u001b[0m\u001b[0;34m\u001b[0m\u001b[0;34m\u001b[0m\u001b[0;34m\u001b[0m\u001b[0m\n\u001b[1;32m    276\u001b[0m         \u001b[0;32mif\u001b[0m \u001b[0;32mnot\u001b[0m \u001b[0mself\u001b[0m\u001b[0;34m.\u001b[0m\u001b[0mim\u001b[0m \u001b[0;32mor\u001b[0m \u001b[0mself\u001b[0m\u001b[0;34m.\u001b[0m\u001b[0mim\u001b[0m\u001b[0;34m.\u001b[0m\u001b[0mmode\u001b[0m \u001b[0;34m!=\u001b[0m \u001b[0mself\u001b[0m\u001b[0;34m.\u001b[0m\u001b[0mmode\u001b[0m \u001b[0;32mor\u001b[0m \u001b[0mself\u001b[0m\u001b[0;34m.\u001b[0m\u001b[0mim\u001b[0m\u001b[0;34m.\u001b[0m\u001b[0msize\u001b[0m \u001b[0;34m!=\u001b[0m \u001b[0mself\u001b[0m\u001b[0;34m.\u001b[0m\u001b[0msize\u001b[0m\u001b[0;34m:\u001b[0m\u001b[0;34m\u001b[0m\u001b[0;34m\u001b[0m\u001b[0m\n\u001b[0;32m--> 277\u001b[0;31m             \u001b[0mself\u001b[0m\u001b[0;34m.\u001b[0m\u001b[0mim\u001b[0m \u001b[0;34m=\u001b[0m \u001b[0mImage\u001b[0m\u001b[0;34m.\u001b[0m\u001b[0mcore\u001b[0m\u001b[0;34m.\u001b[0m\u001b[0mnew\u001b[0m\u001b[0;34m(\u001b[0m\u001b[0mself\u001b[0m\u001b[0;34m.\u001b[0m\u001b[0mmode\u001b[0m\u001b[0;34m,\u001b[0m \u001b[0mself\u001b[0m\u001b[0;34m.\u001b[0m\u001b[0msize\u001b[0m\u001b[0;34m)\u001b[0m\u001b[0;34m\u001b[0m\u001b[0;34m\u001b[0m\u001b[0m\n\u001b[0m\u001b[1;32m    278\u001b[0m         \u001b[0;31m# create palette (optional)\u001b[0m\u001b[0;34m\u001b[0m\u001b[0;34m\u001b[0m\u001b[0;34m\u001b[0m\u001b[0m\n\u001b[1;32m    279\u001b[0m         \u001b[0;32mif\u001b[0m \u001b[0mself\u001b[0m\u001b[0;34m.\u001b[0m\u001b[0mmode\u001b[0m \u001b[0;34m==\u001b[0m \u001b[0;34m\"P\"\u001b[0m\u001b[0;34m:\u001b[0m\u001b[0;34m\u001b[0m\u001b[0;34m\u001b[0m\u001b[0m\n",
            "\u001b[0;31mKeyboardInterrupt\u001b[0m: "
          ]
        }
      ]
    },
    {
      "cell_type": "code",
      "source": [
        "print(class_distr_val)\n",
        "fig, axs = plt.subplots(3)\n",
        "fig.suptitle('Vertically stacked subplots')\n",
        "axs[0].bar(range(0,len(class_distr_tr)), list(class_distr_tr.values()), align='center')\n",
        "axs[1].bar(range(0,len(class_distr_tr)), list(class_distr_val.values()), align='center')\n",
        "axs[2].bar(range(0,len(class_distr_tr)), list(class_distr_test.values()), align='center')"
      ],
      "metadata": {
        "id": "yZ6onXkMxEkw",
        "outputId": "281e55eb-bdfb-4851-b892-262194fb6667",
        "colab": {
          "base_uri": "https://localhost:8080/",
          "height": 329
        }
      },
      "execution_count": 187,
      "outputs": [
        {
          "output_type": "stream",
          "name": "stdout",
          "text": [
            "{\"Bowen's disease\": 33, 'basal cell carcinoma': 56, 'benign keratosis-like lesions': 118, 'dermatofibroma': 8, 'melanoma': 114, 'melanocytic nevi': 659, 'vascular lesions': 13}\n"
          ]
        },
        {
          "output_type": "execute_result",
          "data": {
            "text/plain": [
              "<BarContainer object of 7 artists>"
            ]
          },
          "metadata": {},
          "execution_count": 187
        },
        {
          "output_type": "display_data",
          "data": {
            "text/plain": [
              "<Figure size 432x288 with 3 Axes>"
            ],
            "image/png": "[encoded data removed]"
          },
          "metadata": {
            "needs_background": "light"
          }
        }
      ]
    },
    {
      "cell_type": "code",
      "source": [
        "# Define WeightRandomSampler to mitigate class unbalance\n",
        "print('class_distr:', class_distr)\n",
        "tr_class_weights = 1. / torch.Tensor([class_count for class_count in class_distr_tr.values()])\n",
        "labels_list = train_ds.labels\n",
        "tr_class_weights = tr_class_weights[labels_list]  # build weight for every data samples, on the basis of its label\n",
        "\n",
        "val_class_weights = 1. / torch.Tensor([class_count for class_count in class_distr_val.values()])\n",
        "labels_list = val_ds.labels\n",
        "val_class_weights = val_class_weights[labels_list]  # build weight for every data samples, on the basis of its label\n",
        "\n",
        "test_class_weights = 1. / torch.Tensor([class_count for class_count in class_distr_test.values()])\n",
        "labels_list = test_ds.labels\n",
        "test_class_weights = test_class_weights[labels_list]  # build weight for every data samples, on the basis of its label\n",
        "\n",
        "tr_weighted_sampler = torch.utils.data.WeightedRandomSampler(\n",
        "    weights=tr_class_weights,\n",
        "    num_samples=len(tr_class_weights),\n",
        "    replacement=True\n",
        ")\n",
        "\n",
        "val_weighted_sampler = torch.utils.data.WeightedRandomSampler(\n",
        "    weights=val_class_weights,\n",
        "    num_samples=len(val_class_weights),\n",
        "    replacement=True\n",
        ")\n",
        "\n",
        "test_weighted_sampler = torch.utils.data.WeightedRandomSampler(\n",
        "    weights=test_class_weights,\n",
        "    num_samples=len(test_class_weights),\n",
        "    replacement=True\n",
        ")\n",
        "\n",
        "\n",
        "print(len(train_ds))\n",
        "print(len(val_ds))\n",
        "print(len(test_ds))\n",
        "\n",
        "\n",
        "train_loader = DataLoader(dataset=train_ds, shuffle=False, batch_size=28, sampler=tr_weighted_sampler)\n",
        "val_loader = DataLoader(dataset=val_ds, shuffle=False, batch_size=28, sampler=val_weighted_sampler)\n",
        "test_loader = DataLoader(dataset=test_ds, shuffle=False, batch_size=28, sampler=test_weighted_sampler)  \n",
        "print(len(train_loader))\n",
        "print(len(val_loader))\n",
        "print(len(test_loader))\n",
        "\n",
        "count_dict = {k:0 for k in range(len(ds.classes))}\n",
        "\n",
        "for data in enumerate(val_loader):\n",
        "  count_dict[label] +=1\n",
        "  print(count_dict)"
      ],
      "metadata": {
        "id": "fwVfYSu1tLLz",
        "outputId": "f0ce51ba-15d4-496e-99ec-dcc034e0a323",
        "colab": {
          "base_uri": "https://localhost:8080/",
          "height": 272
        }
      },
      "execution_count": 217,
      "outputs": [
        {
          "output_type": "stream",
          "name": "stdout",
          "text": [
            "class_distr: {\"Bowen's disease\": 327, 'basal cell carcinoma': 514, 'benign keratosis-like lesions': 1099, 'dermatofibroma': 115, 'melanoma': 1113, 'melanocytic nevi': 6705, 'vascular lesions': 142}\n"
          ]
        },
        {
          "output_type": "error",
          "ename": "AttributeError",
          "evalue": "ignored",
          "traceback": [
            "\u001b[0;31m---------------------------------------------------------------------------\u001b[0m",
            "\u001b[0;31mAttributeError\u001b[0m                            Traceback (most recent call last)",
            "\u001b[0;32m<ipython-input-217-94e82bdc4638>\u001b[0m in \u001b[0;36m<module>\u001b[0;34m\u001b[0m\n\u001b[1;32m      2\u001b[0m \u001b[0mprint\u001b[0m\u001b[0;34m(\u001b[0m\u001b[0;34m'class_distr:'\u001b[0m\u001b[0;34m,\u001b[0m \u001b[0mclass_distr\u001b[0m\u001b[0;34m)\u001b[0m\u001b[0;34m\u001b[0m\u001b[0;34m\u001b[0m\u001b[0m\n\u001b[1;32m      3\u001b[0m \u001b[0mtr_class_weights\u001b[0m \u001b[0;34m=\u001b[0m \u001b[0;36m1.\u001b[0m \u001b[0;34m/\u001b[0m \u001b[0mtorch\u001b[0m\u001b[0;34m.\u001b[0m\u001b[0mTensor\u001b[0m\u001b[0;34m(\u001b[0m\u001b[0;34m[\u001b[0m\u001b[0mclass_count\u001b[0m \u001b[0;32mfor\u001b[0m \u001b[0mclass_count\u001b[0m \u001b[0;32min\u001b[0m \u001b[0mclass_distr_tr\u001b[0m\u001b[0;34m.\u001b[0m\u001b[0mvalues\u001b[0m\u001b[0;34m(\u001b[0m\u001b[0;34m)\u001b[0m\u001b[0;34m]\u001b[0m\u001b[0;34m)\u001b[0m\u001b[0;34m\u001b[0m\u001b[0;34m\u001b[0m\u001b[0m\n\u001b[0;32m----> 4\u001b[0;31m \u001b[0mlabels_list\u001b[0m \u001b[0;34m=\u001b[0m \u001b[0mtrain_ds\u001b[0m\u001b[0;34m.\u001b[0m\u001b[0mlabels\u001b[0m\u001b[0;34m\u001b[0m\u001b[0;34m\u001b[0m\u001b[0m\n\u001b[0m\u001b[1;32m      5\u001b[0m \u001b[0mtr_class_weights\u001b[0m \u001b[0;34m=\u001b[0m \u001b[0mtr_class_weights\u001b[0m\u001b[0;34m[\u001b[0m\u001b[0mlabels_list\u001b[0m\u001b[0;34m]\u001b[0m  \u001b[0;31m# build weight for every data samples, on the basis of its label\u001b[0m\u001b[0;34m\u001b[0m\u001b[0;34m\u001b[0m\u001b[0m\n\u001b[1;32m      6\u001b[0m \u001b[0;34m\u001b[0m\u001b[0m\n",
            "\u001b[0;31mAttributeError\u001b[0m: 'Subset' object has no attribute 'labels'"
          ]
        }
      ]
    },
    {
      "cell_type": "code",
      "source": [
        "# define small batches for overfitting sanity check \n",
        "small_tr = Subset(train_ds, range(10))\n",
        "small_val = Subset(val_ds, range(10))\n",
        "small_te = Subset(test_ds, range(10))"
      ],
      "metadata": {
        "id": "kS6IG2046Fv_"
      },
      "execution_count": null,
      "outputs": []
    },
    {
      "cell_type": "code",
      "source": [
        "dl_small_tr = DataLoader(small_tr, batch_size=1, shuffle=True)\n",
        "dl_small_val = DataLoader(small_val, batch_size=1, shuffle=True)\n",
        "dl_small_te = DataLoader(small_te, batch_size=1, shuffle=True)"
      ],
      "metadata": {
        "id": "E6Hhq0B26XWV"
      },
      "execution_count": null,
      "outputs": []
    },
    {
      "cell_type": "code",
      "source": [
        "type(dl_train)"
      ],
      "metadata": {
        "id": "nknZH68J6waC",
        "outputId": "0de54ab8-6070-4d26-a641-9aed733087f3",
        "colab": {
          "base_uri": "https://localhost:8080/"
        }
      },
      "execution_count": null,
      "outputs": [
        {
          "output_type": "execute_result",
          "data": {
            "text/plain": [
              "torch.utils.data.dataloader.DataLoader"
            ]
          },
          "metadata": {},
          "execution_count": 35
        }
      ]
    },
    {
      "cell_type": "markdown",
      "source": [
        "## Build Network"
      ],
      "metadata": {
        "id": "7o6dqhVkDS0L"
      }
    },
    {
      "cell_type": "markdown",
      "source": [
        "### Generic Layers for CNN"
      ],
      "metadata": {
        "id": "GBgGZLuS6P5J"
      }
    },
    {
      "cell_type": "code",
      "source": [
        "def get_conv2d(name:str,\n",
        "              channels_in: int,\n",
        "              channels_out: int,\n",
        "              size_kernel: Union[int, tuple],\n",
        "              stride: Union[int, tuple],\n",
        "              add_batch_norm: bool,\n",
        "              activation: str) -> nn.Sequential:\n",
        "    \"\"\"Gets a sequential container with a sandwich of 2D Convolution, \n",
        "       and Relu.\n",
        "\n",
        "    Args:\n",
        "        name: the name prefix to append to each layer in the container.\n",
        "        channels_in: the number of the input channels.\n",
        "        channels_out: the number of the output channels.\n",
        "        size_kernel: the size of the kernel.\n",
        "        stride: the stride.        \n",
        "\n",
        "    Returns: the created sequential.\n",
        "    \"\"\"\n",
        "    container = nn.Sequential() # a neural network is always a nn.Sequential, to which we add all the modules we need \n",
        "                                # modules can be Conv2D, ReLU, Linear, Pooling...\n",
        "\n",
        "    container.add_module(f'{name}_conv_2d', nn.Conv2d(channels_in, channels_out, \n",
        "                                                      kernel_size=size_kernel,\n",
        "                                                      stride=stride, padding=(size_kernel-1)//2))\n",
        "    \n",
        "    if add_batch_norm:\n",
        "      container.add_module(f'{name}_bn', nn.BatchNorm2d(channels_out))\n",
        "\n",
        "    if activation==\"ReLU\":                                      \n",
        "      container.add_module(f'{name}_ReLU', nn.ReLU(inplace=True))\n",
        "    elif activation==\"Sigmoid\":\n",
        "      container.add_module(f'{name}_Sigmoid', nn.Sigmoid())\n",
        "    elif activation is not None:\n",
        "      raise Exception(\"Activation name is wrong\")\n",
        "      \n",
        "    return container\n",
        "\n",
        "def get_linear_relu_bn(name:str,\n",
        "                    features_in: int,\n",
        "                    features_out: int,\n",
        "                    add_batch_norm: bool) -> nn.Sequential:\n",
        "    \"\"\"Gets a sequential container with a sandwich of Fully connected layer \n",
        "       and Relu.\n",
        "\n",
        "    Args:\n",
        "        name: the name prefix to append to each layer in the container.\n",
        "        features_in: the number of the input features.\n",
        "        features_out: the number of the output features.\n",
        "\n",
        "    Returns: the created sequential.\n",
        "    \"\"\"\n",
        "    container = nn.Sequential()\n",
        "    container.add_module(f'{name}_fc', nn.Linear(in_features=features_in, out_features=features_out))\n",
        "\n",
        "    if add_batch_norm:\n",
        "      container.add_module(f'{name}_bn', nn.BatchNorm1d(features_out))\n",
        "\n",
        "    container.add_module(f'{name}_ReLU', nn.ReLU(inplace=True))\n",
        "    return container"
      ],
      "metadata": {
        "id": "ys7HlX_X6SyG"
      },
      "execution_count": null,
      "outputs": []
    },
    {
      "cell_type": "markdown",
      "source": [
        "### Building the Network"
      ],
      "metadata": {
        "id": "94IIA_do6XxV"
      }
    },
    {
      "cell_type": "code",
      "source": [
        "# input of the network: torch Tensor image of shape 480x640\n",
        "# output of the network: label and 4 float numbers, for each detection. Label can also be a probability for each class\n",
        "# classes: [\"__background__\", \"RBC\", \"WBC\", \"Platelets\"]"
      ],
      "metadata": {
        "id": "1XvhpQCJDUU8"
      },
      "execution_count": null,
      "outputs": []
    },
    {
      "cell_type": "code",
      "source": [
        "class MyCNN(nn.Module):\n",
        "    def __init__(self, num_classes: int, use_bn: bool):\n",
        "        super(MyCNN, self).__init__()\n",
        "\n",
        "        super().__init__()\n",
        "\n",
        "        self.conv1 = get_conv2d(\"conv_1\",\n",
        "                                     channels_in=3, \n",
        "                                     channels_out=64, \n",
        "                                     size_kernel=3, \n",
        "                                     stride=1,\n",
        "                                     add_batch_norm = use_bn,\n",
        "                                     activation=\"ReLU\")  \n",
        "        \n",
        "        self.conv2 = get_conv2d(\"conv_2\",\n",
        "                                     channels_in=64, \n",
        "                                     channels_out=64,\n",
        "                                     size_kernel=3, \n",
        "                                     stride=1,\n",
        "                                     add_batch_norm = use_bn,\n",
        "                                     activation=\"ReLU\")\n",
        "        \n",
        "        self.conv3 = get_conv2d(\"conv_3\",\n",
        "                                     channels_in=64, \n",
        "                                     channels_out=128,\n",
        "                                     size_kernel=3, \n",
        "                                     stride=1,\n",
        "                                     add_batch_norm = use_bn,\n",
        "                                     activation=\"ReLU\")\n",
        "        \n",
        "        self.conv4 = get_conv2d(\"conv_4\",\n",
        "                                     channels_in=128, \n",
        "                                     channels_out=128,\n",
        "                                     size_kernel=3, \n",
        "                                     stride=1,\n",
        "                                     add_batch_norm = use_bn,\n",
        "                                     activation=\"ReLU\")\n",
        "        \n",
        "        self.conv5 = get_conv2d(\"conv_5\",\n",
        "                                     channels_in=128, \n",
        "                                     channels_out=256,\n",
        "                                     size_kernel=3, \n",
        "                                     stride=1,\n",
        "                                     add_batch_norm = use_bn,\n",
        "                                     activation=\"ReLU\")\n",
        "\n",
        "        self.conv6 = get_conv2d(\"conv_6\",\n",
        "                                     channels_in=256, \n",
        "                                     channels_out=256,\n",
        "                                     size_kernel=3, \n",
        "                                     stride=1,\n",
        "                                     add_batch_norm = use_bn,\n",
        "                                     activation=\"ReLU\")\n",
        "        \n",
        "        self.conv7 = get_conv2d(\"conv_7\",\n",
        "                                    channels_in=256, \n",
        "                                    channels_out=512,\n",
        "                                    size_kernel=3, \n",
        "                                    stride=1,\n",
        "                                    add_batch_norm = use_bn,\n",
        "                                    activation=\"ReLU\")\n",
        "        \n",
        "        self.conv8 = get_conv2d(\"conv_8\",\n",
        "                                    channels_in=512, \n",
        "                                    channels_out=512,\n",
        "                                    size_kernel=3, \n",
        "                                    stride=1,\n",
        "                                    add_batch_norm = use_bn,\n",
        "                                    activation=\"ReLU\")\n",
        "        \n",
        "        self.conv9 = get_conv2d(\"conv_9\",\n",
        "                                    channels_in=512, \n",
        "                                    channels_out=256,\n",
        "                                    size_kernel=3, \n",
        "                                    stride=1,\n",
        "                                    add_batch_norm = use_bn,\n",
        "                                    activation=\"ReLU\")\n",
        "        \n",
        "        self.conv10 = get_conv2d(\"conv_10\",\n",
        "                                    channels_in=256, \n",
        "                                    channels_out=128,\n",
        "                                    size_kernel=3, \n",
        "                                    stride=1,\n",
        "                                    add_batch_norm = use_bn,\n",
        "                                    activation=\"ReLU\")\n",
        "\n",
        "        \n",
        "        self.conv_prob = get_conv2d(\"conv_prob\",\n",
        "                                    channels_in=128, \n",
        "                                    channels_out=128,\n",
        "                                    size_kernel=3, \n",
        "                                    stride=1,\n",
        "                                    add_batch_norm = use_bn,\n",
        "                                    activation=\"Sigmoid\")\n",
        "        \n",
        "        self.conv_boxes = get_conv2d(\"conv_boxes\",\n",
        "                                    channels_in=128, \n",
        "                                    channels_out=128,\n",
        "                                    size_kernel=3, \n",
        "                                    stride=1,\n",
        "                                    add_batch_norm = use_bn,\n",
        "                                    activation=None)\n",
        "        \n",
        "        self.conv_cls = get_conv2d(\"conv_cls\",\n",
        "                                    channels_in=128, \n",
        "                                    channels_out=128, # n of classes\n",
        "                                    size_kernel=3, \n",
        "                                    stride=1,\n",
        "                                    add_batch_norm = use_bn,\n",
        "                                    activation=\"Sigmoid\")\n",
        "      \n",
        "                        \n",
        "        \n",
        "        self.max_pool = torch.nn.MaxPool2d(2) # default stride = None\n",
        "        \n",
        "        self.fc1 = get_linear_relu_bn(\"fc_1\", 512 * 2 * 2, 512, use_bn)\n",
        "\n",
        "        self.fc2 = get_linear_relu_bn(\"fc_2\", 512, num_classes, use_bn)\n",
        "\n",
        "\n",
        "        self.fc_prob = get_linear_relu_bn(\"fc_prob\", 128 * 15 * 20, 1, use_bn)\n",
        "\n",
        "        self.fc_boxes = get_linear_relu_bn(\"fc_boxes\", 128 * 15 * 20, 4, use_bn)\n",
        "\n",
        "        self.fc_cls = get_linear_relu_bn(\"fc_cls\", 128 * 15 * 20, num_classes, use_bn)\n",
        "\n",
        "\n",
        "        #x_prob = layers.Conv2D(\"conv\", kernel_size=3, padding='same', activation='sigmoid', name='x_prob')(x)\n",
        "        #x_boxes = layers.Conv2D(4, kernel_size=3, padding='same', name='x_boxes')(x)\n",
        "        #x_cls = layers.Conv2D(10, kernel_size=3, padding='same', activation='sigmoid', name='x_cls')(x)\n",
        "\n",
        "\n",
        "    def forward(self, x):\n",
        "        x = self.conv1(x) # CONV + RELU\n",
        "        x = self.conv2(x) # CONV + RELU        \n",
        "        x = self.max_pool(x)\n",
        "        \n",
        "        x = self.conv3(x) # CONV + RELU  \n",
        "        x = self.conv4(x) # CONV + RELU   \n",
        "        x = self.max_pool(x) \n",
        "\n",
        "        x = self.conv5(x) # CONV + RELU\n",
        "        x = self.conv6(x) # CONV + RELU\n",
        "        #x = self.conv6(x) # CONV + RELU    \n",
        "        x = self.max_pool(x) \n",
        "\n",
        "        x = self.conv7(x) # CONV + RELU\n",
        "        x = self.conv8(x) # CONV + RELU\n",
        "        x = self.max_pool(x)\n",
        "\n",
        "        x = self.conv9(x)   # CONV + RELU\n",
        "        x = self.conv10(x)  # CONV + RELU\n",
        "        x = self.max_pool(x)\n",
        "\n",
        "        x_boxes = self.conv_boxes(x)\n",
        "        x_prob = self.conv_prob(x)\n",
        "        x_cls = self.conv_cls(x)\n",
        "\n",
        "        print('boxes:', x_boxes.shape)\n",
        "        print('prob:', x_prob.shape)\n",
        "        print('cls:', x_cls.shape)\n",
        "        \n",
        "        x_boxes =  torch.flatten(x_boxes, start_dim=1)\n",
        "        x_prob =  torch.flatten(x_prob, start_dim=1)\n",
        "        x_cls = torch.flatten(x_cls, start_dim=1)\n",
        "        \n",
        "        x_boxes = self.fc_boxes(x_boxes)\n",
        "        x_prob = self.fc_prob(x_prob)\n",
        "        x_cls = self.fc_cls(x_cls)\n",
        "\n",
        "        print('boxes:', x_boxes.shape)\n",
        "        print('prob:', x_prob.shape)\n",
        "        print('cls:', x_cls.shape)\n",
        "\n",
        "        return torch.cat((x_boxes, x_prob, x_cls), dim=1)\n"
      ],
      "metadata": {
        "id": "vljz-bRh6B9V"
      },
      "execution_count": null,
      "outputs": []
    },
    {
      "cell_type": "code",
      "source": [
        "# Overview of the network\n",
        "size_batch = 28\n",
        "h = 480\n",
        "w = 640\n",
        "num_classes = 4\n",
        "\n",
        "summary(MyCNN(num_classes=num_classes, use_bn=True), \n",
        "                input_size=(3, h, w), batch_size=size_batch, device=\"cpu\")"
      ],
      "metadata": {
        "colab": {
          "base_uri": "https://localhost:8080/"
        },
        "id": "7NPOEXjf6E7M",
        "outputId": "8ff534f9-38e4-4ee2-cfcd-6acd2911cf8c"
      },
      "execution_count": null,
      "outputs": [
        {
          "output_type": "stream",
          "name": "stdout",
          "text": [
            "boxes: torch.Size([2, 128, 15, 20])\n",
            "prob: torch.Size([2, 128, 15, 20])\n",
            "cls: torch.Size([2, 128, 15, 20])\n",
            "boxes: torch.Size([2, 4])\n",
            "prob: torch.Size([2, 1])\n",
            "cls: torch.Size([2, 4])\n",
            "----------------------------------------------------------------\n",
            "        Layer (type)               Output Shape         Param #\n",
            "================================================================\n",
            "            Conv2d-1         [28, 64, 480, 640]           1,792\n",
            "       BatchNorm2d-2         [28, 64, 480, 640]             128\n",
            "              ReLU-3         [28, 64, 480, 640]               0\n",
            "            Conv2d-4         [28, 64, 480, 640]          36,928\n",
            "       BatchNorm2d-5         [28, 64, 480, 640]             128\n",
            "              ReLU-6         [28, 64, 480, 640]               0\n",
            "         MaxPool2d-7         [28, 64, 240, 320]               0\n",
            "            Conv2d-8        [28, 128, 240, 320]          73,856\n",
            "       BatchNorm2d-9        [28, 128, 240, 320]             256\n",
            "             ReLU-10        [28, 128, 240, 320]               0\n",
            "           Conv2d-11        [28, 128, 240, 320]         147,584\n",
            "      BatchNorm2d-12        [28, 128, 240, 320]             256\n",
            "             ReLU-13        [28, 128, 240, 320]               0\n",
            "        MaxPool2d-14        [28, 128, 120, 160]               0\n",
            "           Conv2d-15        [28, 256, 120, 160]         295,168\n",
            "      BatchNorm2d-16        [28, 256, 120, 160]             512\n",
            "             ReLU-17        [28, 256, 120, 160]               0\n",
            "           Conv2d-18        [28, 256, 120, 160]         590,080\n",
            "      BatchNorm2d-19        [28, 256, 120, 160]             512\n",
            "             ReLU-20        [28, 256, 120, 160]               0\n",
            "        MaxPool2d-21          [28, 256, 60, 80]               0\n",
            "           Conv2d-22          [28, 512, 60, 80]       1,180,160\n",
            "      BatchNorm2d-23          [28, 512, 60, 80]           1,024\n",
            "             ReLU-24          [28, 512, 60, 80]               0\n",
            "           Conv2d-25          [28, 512, 60, 80]       2,359,808\n",
            "      BatchNorm2d-26          [28, 512, 60, 80]           1,024\n",
            "             ReLU-27          [28, 512, 60, 80]               0\n",
            "        MaxPool2d-28          [28, 512, 30, 40]               0\n",
            "           Conv2d-29          [28, 256, 30, 40]       1,179,904\n",
            "      BatchNorm2d-30          [28, 256, 30, 40]             512\n",
            "             ReLU-31          [28, 256, 30, 40]               0\n",
            "           Conv2d-32          [28, 128, 30, 40]         295,040\n",
            "      BatchNorm2d-33          [28, 128, 30, 40]             256\n",
            "             ReLU-34          [28, 128, 30, 40]               0\n",
            "        MaxPool2d-35          [28, 128, 15, 20]               0\n",
            "           Conv2d-36          [28, 128, 15, 20]         147,584\n",
            "      BatchNorm2d-37          [28, 128, 15, 20]             256\n",
            "           Conv2d-38          [28, 128, 15, 20]         147,584\n",
            "      BatchNorm2d-39          [28, 128, 15, 20]             256\n",
            "          Sigmoid-40          [28, 128, 15, 20]               0\n",
            "           Conv2d-41          [28, 128, 15, 20]         147,584\n",
            "      BatchNorm2d-42          [28, 128, 15, 20]             256\n",
            "          Sigmoid-43          [28, 128, 15, 20]               0\n",
            "           Linear-44                    [28, 4]         153,604\n",
            "      BatchNorm1d-45                    [28, 4]               8\n",
            "             ReLU-46                    [28, 4]               0\n",
            "           Linear-47                    [28, 1]          38,401\n",
            "      BatchNorm1d-48                    [28, 1]               2\n",
            "             ReLU-49                    [28, 1]               0\n",
            "           Linear-50                    [28, 4]         153,604\n",
            "      BatchNorm1d-51                    [28, 4]               8\n",
            "             ReLU-52                    [28, 4]               0\n",
            "================================================================\n",
            "Total params: 6,954,075\n",
            "Trainable params: 6,954,075\n",
            "Non-trainable params: 0\n",
            "----------------------------------------------------------------\n",
            "Input size (MB): 98.44\n",
            "Forward/backward pass size (MB): 49587.90\n",
            "Params size (MB): 26.53\n",
            "Estimated Total Size (MB): 49712.86\n",
            "----------------------------------------------------------------\n"
          ]
        }
      ]
    },
    {
      "cell_type": "markdown",
      "source": [
        "### Define losses"
      ],
      "metadata": {
        "id": "mMBzB8H3OFRh"
      }
    },
    {
      "cell_type": "code",
      "source": [
        "# è scritto in Tensorflow. Va messo in torch\n",
        "\n",
        "def loss_bb(y_true, y_pred):\n",
        "    #y_true = tf.gather(y_true, idx_bb, axis=-1)\n",
        "    #y_pred = tf.gather(y_pred, idx_bb, axis=-1)\n",
        "\n",
        "    #loss = tf.keras.losses.mean_squared_error(y_true, y_pred)\n",
        "    #return tf.reduce_mean(loss[loss > 0.0])\n",
        "\n",
        "    loss = torch.nn.MSELoss(y_true, y_pred)\n",
        "    loss = loss.mean()\n",
        "    return loss\n",
        "\n",
        "def loss_p(y_true, y_pred):\n",
        "    #y_true = tf.gather(y_true, idx_p, axis=-1)\n",
        "    #y_pred = tf.gather(y_pred, idx_p, axis=-1)\n",
        "    \n",
        "    #loss = tf.losses.binary_crossentropy(y_true, y_pred)\n",
        "    #return tf.reduce_sum(loss)\n",
        "\n",
        "    loss = torch.nn.BCELoss(y_true, y_pred)\n",
        "    loss = loss.sum()\n",
        "    return loss\n",
        "\n",
        "def loss_cls(y_true, y_pred):\n",
        "    #y_true = tf.gather(y_true, idx_cls, axis=-1)\n",
        "    #y_pred = tf.gather(y_pred, idx_cls, axis=-1)\n",
        "    \n",
        "    #loss = tf.losses.binary_crossentropy(y_true, y_pred)\n",
        "    #return tf.reduce_sum(loss)\n",
        "\n",
        "    loss = torch.nn.BCELoss(y_true, y_pred)\n",
        "    loss = loss.sum()\n",
        "    return loss\n",
        "\n",
        "def loss_func(y_true, y_pred):\n",
        "    return loss_bb(y_true, y_pred) + loss_p(y_true, y_pred) + loss_cls(y_true, y_pred)"
      ],
      "metadata": {
        "id": "1dxsYfvyEHdr"
      },
      "execution_count": null,
      "outputs": []
    },
    {
      "cell_type": "markdown",
      "source": [
        "## Training"
      ],
      "metadata": {
        "id": "BjB6pgvuJB7c"
      }
    },
    {
      "cell_type": "code",
      "source": [
        "def train(writer: utils.tensorboard.writer.SummaryWriter,\n",
        "          model: nn.Module,\n",
        "          train_loader: utils.data.DataLoader,\n",
        "          device: torch.device,          \n",
        "          optimizer: torch.optim,          \n",
        "          log_interval: int,\n",
        "          epoch: int) -> Dict[str, float]:\n",
        "    \"\"\"Trains a neural network for one epoch.\n",
        "\n",
        "    Args:\n",
        "        model: the model to train.\n",
        "        train_loader: the data loader containing the training data.\n",
        "        device: the device to use to train the model.        \n",
        "        optimizer: the optimizer to use to train the model.        \n",
        "        log_interval: the log interval.\n",
        "        epoch: the number of the current epoch.\n",
        "\n",
        "    Returns: \n",
        "        A dictionary containing:\n",
        "            the sum of classification and regression loss.\n",
        "            the classification loss.\n",
        "            the regression loss.\n",
        "    \"\"\"        \n",
        "    size_ds_train = len(train_loader.dataset)\n",
        "    num_batches = len(train_loader)    \n",
        "\n",
        "    model.train()\n",
        "    for idx_batch, (images, targets) in enumerate(train_loader):        \n",
        "        optimizer.zero_grad()\n",
        "        images = list(image.to(device) for image in images)\n",
        "        targets = [{k: v.to(device) for k, v in t.items()} for t in targets]\n",
        "\n",
        "        output = model(images, targets)\n",
        "\n",
        "        boxes = output[:4] \n",
        "        prob = output[4:5]\n",
        "        cls = output[5:]\n",
        "\n",
        "        # come calcolare la loss? ogni immagine contiene multiple predizioni...\n",
        "\n",
        "        loss_dict = model(images, targets)\n",
        "        \n",
        "        loss_class = loss_dict['classification']\n",
        "        loss_boxes_regr = loss_dict['bbox_regression']\n",
        "        losses = loss_class + loss_boxes_regr\n",
        "        losses.backward()\n",
        "        optimizer.step()\n",
        "\n",
        "        if log_interval > 0:\n",
        "            if idx_batch % log_interval == 0:                                \n",
        "                global_step = idx_batch + (epoch * num_batches)                 \n",
        "                writer.add_scalar('Metrics/Loss_Train_IT_Sum', losses, global_step)         \n",
        "                writer.add_scalar('Metrics/Loss_Train_IT_Boxes', loss_boxes_regr, global_step)     \n",
        "                writer.add_scalar('Metrics/Loss_Train_IT_Classification', loss_class, global_step)                    \n",
        "                    \n",
        "    dict_losses_train = {'bbox_regression': loss_boxes_regr,\n",
        "                         'classification': loss_class,\n",
        "                         'sum': losses}\n",
        "    return dict_losses_train\n"
      ],
      "metadata": {
        "id": "P89h_onqI964"
      },
      "execution_count": null,
      "outputs": []
    },
    {
      "cell_type": "code",
      "source": [
        "def training_loop(writer: utils.tensorboard.writer.SummaryWriter,\n",
        "                  num_epochs: int,\n",
        "                  optimizer: torch.optim, \n",
        "                  lr_scheduler: torch.optim.lr_scheduler,\n",
        "                  log_interval: int, \n",
        "                  model: nn.Module, \n",
        "                  loader_train: utils.data.DataLoader, \n",
        "                  loader_val: utils.data.DataLoader, \n",
        "                  verbose: bool=True) -> Dict[str, List[float]]:\n",
        "    \"\"\"Executes the training loop.\n",
        "    \n",
        "        Args:\n",
        "            writer: the summary writer for tensorboard.\n",
        "            num_epochs: the number of epochs.\n",
        "            optimizer: the optimizer to use.\n",
        "            lr_scheduler: the scheduler for the learning rate.\n",
        "            log_interval: intervall to print on tensorboard.\n",
        "            model: the model to train.\n",
        "            loader_train: the data loader containing the training data.\n",
        "            loader_val: the data loader containing the validation data.\n",
        "            verbose: if true print the value of loss.\n",
        "\n",
        "        Returns:  \n",
        "            A dictionary with the statistics computed during the train:\n",
        "            the values for the train loss for each epoch.\n",
        "            the values for the train accuracy for each epoch.            \n",
        "            the time of execution in seconds for the entire loop.\n",
        "            the model trained \n",
        "    \"\"\"    \n",
        "    loop_start = timer()\n",
        "\n",
        "    losses_val_bb = []\n",
        "    losses_val_class = []\n",
        "    losses_val_sum = []\n",
        "    \n",
        "    for epoch in range(1, num_epochs + 1):\n",
        "        time_start = timer()\n",
        "        losses_epoch_train = train(writer, model, loader_train, device, \n",
        "                                   optimizer, log_interval, epoch)\n",
        "        \n",
        "        #######################################################################\n",
        "        ########      Validate the model, look at the assignments.    #########\n",
        "        #######################################################################\n",
        "\n",
        "        loss_bb = losses_epoch_train['bbox_regression']\n",
        "        losses_val_bb.append(loss_bb)\n",
        "        \n",
        "        loss_class = losses_epoch_train['classification']\n",
        "        losses_val_class.append(loss_class)\n",
        "        \n",
        "        loss_sum = losses_epoch_train['sum']\n",
        "        losses_val_sum.append(loss_sum)\n",
        "        \n",
        "        time_end = timer()\n",
        "\n",
        "        lr = optimizer.param_groups[0]['lr']\n",
        "        \n",
        "        if verbose:            \n",
        "            print(f'Epoch: {epoch} '\n",
        "                  f' Lr: {lr:.8f} '\n",
        "                  f' Losses Train: Sum = [{loss_sum:.4f}] Class = [{loss_class:.4f}] Boxes = [{loss_bb:.4f}]'                  \n",
        "                  f' Time one epoch (s): {(time_end - time_start):.4f} ')\n",
        "        \n",
        "        # Plot to tensorboard        \n",
        "        writer.add_scalar('Hyperparameters/Learning Rate', lr, epoch)\n",
        "        writer.add_scalar('Metrics/Losses/Sum', loss_sum, epoch)\n",
        "        writer.add_scalar('Metrics/Losses/Boxes', loss_bb, epoch)\n",
        "        writer.add_scalar('Metrics/Losses/Classification', loss_class, epoch)\n",
        "        writer.flush()\n",
        "                \n",
        "        if lr_scheduler:            \n",
        "            lr_scheduler.step()\n",
        "    \n",
        "    loop_end = timer()\n",
        "    time_loop = loop_end - loop_start\n",
        "    if verbose:\n",
        "        print(f'Time for {num_epochs} epochs (s): {(time_loop):.3f}') \n",
        "            \n",
        "    return {'bbox_regression': losses_val_bb,\n",
        "            'classification': losses_val_class,\n",
        "            'sum': losses_val_sum,\n",
        "            'time': time_loop}"
      ],
      "metadata": {
        "id": "NmCuSPUYJwB-"
      },
      "execution_count": null,
      "outputs": []
    },
    {
      "cell_type": "markdown",
      "source": [
        "## Test"
      ],
      "metadata": {
        "id": "81t3YbO3JI2n"
      }
    },
    {
      "cell_type": "code",
      "source": [
        "def detect_objects(image: Image,\n",
        "                   detector: nn.Module, \n",
        "                   threshold: float, \n",
        "                   categories: List[str]) -> Tuple[List[List[int]], \n",
        "                                                   List[float], \n",
        "                                                   List[str], \n",
        "                                                   List[int]]:\n",
        "    \"\"\"Detects objects in the image using the provided detector. \n",
        "    This function puts the model in the eval mode.\n",
        "\n",
        "    Args:\n",
        "        image: the input image.\n",
        "        detector: the object detector.\n",
        "        threshold: the detection confidence score, any detections with scores \n",
        "        below this value are discarded.\n",
        "        categories: the names of the categories of the data set used to train the network.\n",
        "\n",
        "    Returns:\n",
        "        The bounding boxes of the predicted objects using the [x_min, y_min, x_max, y_max] format, \n",
        "        with values between 0 and image height and 0 and image width.\n",
        "        The scores of the predicted objects.\n",
        "        The categories of the predicted objects.\n",
        "    \"\"\"\n",
        "    detector.eval()\n",
        "    with torch.no_grad():\n",
        "        predictions = detector(image)\n",
        "        predictions = predictions[0]\n",
        "    \n",
        "    # Get scores, boxex, and labels\n",
        "    scores = predictions['scores'].detach().cpu().numpy()\n",
        "    boxes = predictions['boxes'].detach().cpu().numpy()\n",
        "    labels = predictions['labels'].cpu().numpy()\n",
        "    \n",
        "    # Get all the boxes above the threshold\n",
        "    mask = scores >= threshold\n",
        "    boxes_filtered = boxes[mask].astype(np.int32)\n",
        "    \n",
        "    # Get the names of the categories above the threshold\n",
        "    indices_filtered = [idx for idx, score in enumerate(list(scores)) if score >= threshold]      \n",
        "    categories_filtered = [categories[labels[i]] for i in indices_filtered]\n",
        "    \n",
        "    # Get only the scores above the threshold\n",
        "    labels_filtered = labels[mask]\n",
        "    scores_filtered = scores[mask]\n",
        "\n",
        "    return boxes_filtered, scores_filtered, categories_filtered, labels_filtered"
      ],
      "metadata": {
        "id": "xXP-XAWRJ1Qz"
      },
      "execution_count": null,
      "outputs": []
    }
  ]
}