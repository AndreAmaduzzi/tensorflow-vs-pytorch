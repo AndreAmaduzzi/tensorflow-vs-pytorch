{
  "nbformat": 4,
  "nbformat_minor": 0,
  "metadata": {
    "colab": {
      "provenance": [],
      "authorship_tag": "ABX9TyNxv2PS/+Lb73XYBksujvxj",
      "include_colab_link": true
    },
    "kernelspec": {
      "name": "python3",
      "display_name": "Python 3"
    },
    "language_info": {
      "name": "python"
    }
  },
  "cells": [
    {
      "cell_type": "markdown",
      "metadata": {
        "id": "view-in-github",
        "colab_type": "text"
      },
      "source": [
        "<a href=\"https://colab.research.google.com/github/AndreAmaduzzi/tensorflow-vs-pytorch/blob/main/pytorch.ipynb\" target=\"_parent\"><img src=\"https://colab.research.google.com/assets/colab-badge.svg\" alt=\"Open In Colab\"/></a>"
      ]
    },
    {
      "cell_type": "markdown",
      "source": [
        "# Pytorch implementation of Object Detection Network"
      ],
      "metadata": {
        "id": "r0PqWcnHpdf1"
      }
    },
    {
      "cell_type": "markdown",
      "source": [
        "## Import Dependencies"
      ],
      "metadata": {
        "id": "ACSWVMPKp_Au"
      }
    },
    {
      "cell_type": "code",
      "source": [
        "!pip install xmltodict\n",
        "from __future__ import print_function\n",
        "from __future__ import division\n",
        "\n",
        "import copy\n",
        "import torch\n",
        "import torchvision\n",
        "import torch.nn as nn\n",
        "import torch.optim as optim\n",
        "import torch.utils as utils\n",
        "import matplotlib.pyplot as plt\n",
        "import numpy as np\n",
        "import random\n",
        "import requests\n",
        "import os\n",
        "import time\n",
        "\n",
        "from pathlib import Path\n",
        "from PIL import Image, ImageDraw, ImageFont\n",
        "from timeit import default_timer as timer\n",
        "from typing import Callable, Dict, List, Tuple, Union\n",
        "from torchvision import datasets, models, transforms\n",
        "from torchsummary import summary\n",
        "from torch.optim import lr_scheduler\n",
        "from torch.utils.tensorboard import SummaryWriter\n",
        "from torch.utils.data import DataLoader, Dataset\n",
        "from torchvision import transforms\n",
        "from tqdm import tqdm\n",
        "import xml.etree.ElementTree as ET\n",
        "import xmltodict"
      ],
      "metadata": {
        "id": "SUYVycYqp99o",
        "colab": {
          "base_uri": "https://localhost:8080/"
        },
        "outputId": "56e73f02-c07b-4430-9cde-7b9ec2cd5e2c"
      },
      "execution_count": 86,
      "outputs": [
        {
          "output_type": "stream",
          "name": "stdout",
          "text": [
            "Looking in indexes: https://pypi.org/simple, https://us-python.pkg.dev/colab-wheels/public/simple/\n",
            "Requirement already satisfied: xmltodict in /usr/local/lib/python3.8/dist-packages (0.13.0)\n"
          ]
        }
      ]
    },
    {
      "cell_type": "markdown",
      "source": [
        "## Runtime Settings"
      ],
      "metadata": {
        "id": "J7JTlq5vqFqO"
      }
    },
    {
      "cell_type": "code",
      "source": [
        "device = \"cpu\"\n",
        "if torch.cuda.is_available:\n",
        "  print('All good, a Gpu is available')\n",
        "  device = torch.device(\"cuda:0\")  \n",
        "else:\n",
        "  print('Please set GPU via Edit -> Notebook Settings.')"
      ],
      "metadata": {
        "colab": {
          "base_uri": "https://localhost:8080/"
        },
        "id": "u3conRsDqCj5",
        "outputId": "89ac78db-bba2-44f0-cc73-2d6dd2765633"
      },
      "execution_count": 87,
      "outputs": [
        {
          "output_type": "stream",
          "name": "stdout",
          "text": [
            "All good, a Gpu is available\n"
          ]
        }
      ]
    },
    {
      "cell_type": "markdown",
      "source": [
        "## Reproducibility and Deterministic Mode"
      ],
      "metadata": {
        "id": "y9MD4WgoqKRL"
      }
    },
    {
      "cell_type": "code",
      "source": [
        "def fix_random(seed: int) -> None:\n",
        "    \"\"\"Fix all the possible sources of randomness.\n",
        "\n",
        "    Args:\n",
        "        seed: the seed to use. \n",
        "    \"\"\"\n",
        "    np.random.seed(seed)\n",
        "    random.seed(seed)\n",
        "    torch.manual_seed(seed)\n",
        "    torch.cuda.manual_seed(seed)\n",
        "    \n",
        "    torch.backends.cudnn.benchmark = False\n",
        "    torch.backends.cudnn.deterministic = True\n",
        "\n",
        "fix_random(seed=7)"
      ],
      "metadata": {
        "id": "TtXGakBYqIYg"
      },
      "execution_count": 88,
      "outputs": []
    },
    {
      "cell_type": "markdown",
      "source": [
        "## Building Dataset\n",
        "Dataset: [BCCD dataset](https://public.roboflow.com/object-detection/bccd)\n",
        "\n",
        "3 classes (white blood cells, red blood cells, platelets)\n",
        "\n",
        "364 images"
      ],
      "metadata": {
        "id": "BpHDfI4yqS4a"
      }
    },
    {
      "cell_type": "code",
      "source": [
        "! git clone https://github.com/Shenggan/BCCD_Dataset.git\n",
        "%cd \"BCCD_Dataset/\""
      ],
      "metadata": {
        "colab": {
          "base_uri": "https://localhost:8080/"
        },
        "id": "l_oHP153lMlH",
        "outputId": "ed037065-dee4-4ce2-9182-82fefd9917ee"
      },
      "execution_count": 89,
      "outputs": [
        {
          "output_type": "stream",
          "name": "stdout",
          "text": [
            "fatal: destination path 'BCCD_Dataset' already exists and is not an empty directory.\n",
            "/content/BCCD_Dataset/BCCD_Dataset\n"
          ]
        }
      ]
    },
    {
      "cell_type": "code",
      "source": [
        "!ls"
      ],
      "metadata": {
        "colab": {
          "base_uri": "https://localhost:8080/"
        },
        "id": "iUzvfzbplW8Q",
        "outputId": "d4aa5932-9fcb-492b-9b4e-8081e8517457"
      },
      "execution_count": 90,
      "outputs": [
        {
          "output_type": "stream",
          "name": "stdout",
          "text": [
            "BCCD\t      dataset\t   export.py  LICENSE  README.md  test.csv\n",
            "BCCD_Dataset  example.jpg  imagesBox  plot.py  scripts\n"
          ]
        }
      ]
    },
    {
      "cell_type": "code",
      "source": [
        "def parse_annotations_file(path_annotations):\n",
        "  return 0"
      ],
      "metadata": {
        "id": "3Rlt4lI3tgVm"
      },
      "execution_count": 91,
      "outputs": []
    },
    {
      "cell_type": "code",
      "source": [
        "class BCCDDataset(Dataset):\n",
        "    def __init__(\n",
        "        self,\n",
        "        split: str,\n",
        "        path_images: str,\n",
        "        ext_images: str,\n",
        "        path_annotations: str,\n",
        "        path_splits: str,\n",
        "        transforms: torchvision.transforms = None,\n",
        "    ) -> None:\n",
        "        \"\"\"Init the dataset\n",
        "\n",
        "        Args:\n",
        "            path_images: the path to the folder containing the images.\n",
        "            ext_images: extension of the images.\n",
        "            path_annotations: the path to the folder containing the annotations.\n",
        "            path_splits: the path with the image names for each split\n",
        "            transforms: the transformation to apply to the dataset.\n",
        "        \"\"\"\n",
        "        imgs = []\n",
        "        imgs_path = os.path.join(path_splits, f\"{split}.txt\")\n",
        "        with open(imgs_path, \"r\") as f:\n",
        "          for line in f:\n",
        "            img = line.rstrip()\n",
        "            imgs.append(img)\n",
        "\n",
        "        self.images = sorted([os.path.join(path_images, img + f\".{ext_images}\") for img in imgs])  # path of each image\n",
        "                \n",
        "        self.transforms = transforms\n",
        "\n",
        "        self.classes = [\"__background__\", \"RBC\", \"WBC\", \"Platelets\"]\n",
        "\n",
        "        # build annotations\n",
        "        path_annotations = sorted([os.path.join(path_annotations, img + \".xml\") for img in imgs])\n",
        "\n",
        "        samples = []\n",
        "        for path in path_annotations: # iterate over each xml => each image\n",
        "          tree = ET.parse(path)\n",
        "          root = tree.getroot()\n",
        "          detections = []\n",
        "          for child in root:\n",
        "            sample = {}\n",
        "            if child.tag == \"object\":\n",
        "              detection = {}\n",
        "              for grandchild in child: # iterate over attributes of the object\n",
        "                if grandchild.tag==\"name\":\n",
        "                  name = grandchild.text\n",
        "                  detection[\"name\"] = name\n",
        "                  detection[\"label\"] = self.classes.index(name)\n",
        "                if grandchild.tag==\"bndbox\":\n",
        "                  xmin = float(grandchild[0].text)\n",
        "                  ymin = float(grandchild[1].text)\n",
        "                  xmax = float(grandchild[2].text)\n",
        "                  ymax = float(grandchild[3].text)\n",
        "                  detection[\"bbox\"] = (xmin, ymin, xmax, ymax)\n",
        "              detections.append(detection)\n",
        "          sample[\"img\"] = path\n",
        "          sample[\"detections\"] = detections\n",
        "          samples.append(sample)\n",
        "\n",
        "        self.annotations = samples\n",
        "\n",
        "        if len(self.images) - len(self.annotations) != 0:\n",
        "            raise AssertionError(\n",
        "                f\"Labels and Images differs in size: {len(self.images)} - {len(self.annotations)}.\"\n",
        "            )\n",
        "\n",
        "    def __getitem__(self, idx):\n",
        "        path_image = self.images[idx]\n",
        "        image = Image.open(path_image).convert(\"RGB\")\n",
        "      \n",
        "        if self.transforms is not None:\n",
        "            image = self.transforms(image)\n",
        "\n",
        "        target = self.annotations[idx][\"detections\"]  # target is a list of dictionaries with keys \"name\", \"label\" and \"bbox\"\n",
        "\n",
        "        return image, target\n",
        "\n",
        "    def __len__(self):\n",
        "        return len(self.images)"
      ],
      "metadata": {
        "id": "p1pZoCAIsJgl"
      },
      "execution_count": 101,
      "outputs": []
    },
    {
      "cell_type": "code",
      "source": [
        "# Setting data loading parameters\n",
        "bs = 28\n",
        "n_workers = 2\n",
        "img_transformations = transforms.ToTensor()   # transformations to apply to the input images"
      ],
      "metadata": {
        "id": "ikNKmLDOsgZ7"
      },
      "execution_count": 102,
      "outputs": []
    },
    {
      "cell_type": "code",
      "source": [
        "def draw_boxes(image: Image,\n",
        "               targets: Dict,\n",
        "               scores: List[float],\n",
        "               colors: List[List[float]],\n",
        "               normalized_coordinates: bool,\n",
        "               add_text: bool = True) -> Image:\n",
        "    \"\"\"Draws a rectangle around each object together with the name of the category and the prediction score using a \n",
        "    different color for each category.\n",
        "\n",
        "    Args:\n",
        "        image: the input image.\n",
        "        boxes: the bounding boxes in the format [x_min, y_min, x_max, y_max] \n",
        "               for all the objects in the image.\n",
        "        classes: the name of the classes for all the objects in the image.\n",
        "        labels: the labels for all the objects in the image.\n",
        "        scores: the predicted scores for all the objects in the image..\n",
        "        colors: the colors to use for each class of object.\n",
        "        normalized_coordinates: if true the coordinates are multiplied \n",
        "                                according to the height and width of the image.\n",
        "        add_text: if true add a box with the name of the category and \n",
        "                  the score.\n",
        "\n",
        "    Returns:\n",
        "        The generated image.\n",
        "    \"\"\"\n",
        "    font = ImageFont.truetype('/usr/share/fonts/truetype/liberation/LiberationMono-Regular.ttf', 30)\n",
        "    image_with_bb = copy.deepcopy(image)\n",
        "    painter = ImageDraw.Draw(image_with_bb)\n",
        "\n",
        "    boxes = []\n",
        "    labels= []\n",
        "    names = []\n",
        "    for target in targets:\n",
        "      boxes.append(target[\"bbox\"])\n",
        "      labels.append(target[\"label\"])\n",
        "      names.append(target[\"name\"])\n",
        "\n",
        "    for i, (box, label) in enumerate(zip(boxes, labels)):        \n",
        "        color = tuple(colors[label].astype(np.int32))\n",
        "        x_min, y_min, x_max, y_max = box\n",
        "        \n",
        "        if normalized_coordinates:\n",
        "            width, height = image.size\n",
        "            x_min *= width\n",
        "            y_min *= height\n",
        "            x_max *= width\n",
        "            y_max *= height\n",
        "\n",
        "        coord_bb = [(x_min, y_min), (x_max, y_max)]\n",
        "        painter.rectangle(coord_bb, outline=color, width=4)\n",
        "        \n",
        "        if add_text:            \n",
        "            label = labels[i]\n",
        "            score = scores[i]\n",
        "            name = names[i]\n",
        "            text_in_box = f'{name}-{score:.2f}'\n",
        "            text_bottom = y_max\n",
        "            text_width, text_height = font.getsize(text_in_box)\n",
        "            margin = np.ceil(0.05 * text_height)\n",
        "            painter.rectangle([(x_min, text_bottom - text_height - 2 * margin), \n",
        "                               (x_min + text_width, text_bottom)], fill=color)\n",
        "            \n",
        "            painter.text((x_min + margin, text_bottom - text_height - margin), \n",
        "                         text_in_box, fill='black', font=font)\n",
        "\n",
        "    return image_with_bb"
      ],
      "metadata": {
        "id": "AHxoXYn_7Cxp"
      },
      "execution_count": 103,
      "outputs": []
    },
    {
      "cell_type": "code",
      "source": [
        "def generate_colors(num_colors: int) -> np.array:\n",
        "    \"\"\"Generates an array with RGB triplets representing colors.\n",
        "\n",
        "    Args:\n",
        "        num_colors: the number of colors to generate.\n",
        "\n",
        "    Returns: \n",
        "        the generated colors.\n",
        "    \"\"\"\n",
        "    np.random.seed(0)\n",
        "    colors = np.random.uniform(0, 255, size=(num_colors, 3))\n",
        "    time_in_ms = 1000 * time.time()\n",
        "    np.random.seed(int(time_in_ms) % 2 ** 32)\n",
        "\n",
        "    return colors"
      ],
      "metadata": {
        "id": "RNBHR9aW8YGY"
      },
      "execution_count": 104,
      "outputs": []
    },
    {
      "cell_type": "code",
      "source": [
        "colors_mi = generate_colors(4)"
      ],
      "metadata": {
        "id": "oo6Wvg8C8hjX"
      },
      "execution_count": 105,
      "outputs": []
    },
    {
      "cell_type": "code",
      "source": [
        "train_ds = BCCDDataset(path_images = \"BCCD/JPEGImages\",\n",
        "                            split = \"train\",\n",
        "                            ext_images = \"jpg\",\n",
        "                            path_annotations = \"BCCD/Annotations\",\n",
        "                            path_splits = \"BCCD/ImageSets/Main\",\n",
        "                            transforms=img_transformations)\n",
        "\n",
        "val_ds = BCCDDataset(path_images = \"BCCD/JPEGImages\",\n",
        "                            split = \"val\",\n",
        "                            ext_images = \"jpg\",\n",
        "                            path_annotations = \"BCCD/Annotations\",\n",
        "                            path_splits = \"BCCD/ImageSets/Main\",\n",
        "                            transforms=img_transformations)\n",
        "\n",
        "test_ds = BCCDDataset(path_images = \"BCCD/JPEGImages\",\n",
        "                            split = \"test\",\n",
        "                            ext_images = \"jpg\",\n",
        "                            path_annotations = \"BCCD/Annotations\",\n",
        "                            path_splits = \"BCCD/ImageSets/Main\",\n",
        "                            transforms=img_transformations)\n"
      ],
      "metadata": {
        "id": "DauZYjLptBAV"
      },
      "execution_count": 106,
      "outputs": []
    },
    {
      "cell_type": "code",
      "source": [
        "print('train: ', len(train_ds))\n",
        "print('val: ', len(val_ds))\n",
        "print('test: ', len(test_ds))"
      ],
      "metadata": {
        "colab": {
          "base_uri": "https://localhost:8080/"
        },
        "id": "wq0GZAAmDouZ",
        "outputId": "b663d441-f936-4082-dce6-bb80e15d20a2"
      },
      "execution_count": 107,
      "outputs": [
        {
          "output_type": "stream",
          "name": "stdout",
          "text": [
            "train:  205\n",
            "val:  87\n",
            "test:  72\n"
          ]
        }
      ]
    },
    {
      "cell_type": "code",
      "source": [
        "#@title Show BCCD Train Dataset { run: \"auto\", display-mode: \"form\" }\n",
        "index_sample = 17  #@param {type:\"slider\", min:0, max:200, step:1}\n",
        "\n",
        "\n",
        "image, targets = train_ds[index_sample]\n",
        "\n",
        "print(img.shape)\n",
        "\n",
        "image = transforms.ToPILImage()(image)\n",
        "\n",
        "cell_with_bb = draw_boxes(image,\n",
        "                          targets = targets,\n",
        "                          scores=[1.0] * len(targets),\n",
        "                          colors=colors_mi,\n",
        "                          normalized_coordinates=False)\n",
        "plt.imshow(cell_with_bb)\n",
        "plt.axis(\"off\")\n",
        "plt.show()\n"
      ],
      "metadata": {
        "colab": {
          "base_uri": "https://localhost:8080/",
          "height": 265
        },
        "id": "Nq7-j5nU_B6K",
        "outputId": "c0756adc-4fc6-4807-c04b-a698b4b55daa"
      },
      "execution_count": 110,
      "outputs": [
        {
          "output_type": "stream",
          "name": "stdout",
          "text": [
            "torch.Size([3, 480, 640])\n"
          ]
        },
        {
          "output_type": "display_data",
          "data": {
            "text/plain": [
              "<Figure size 432x288 with 1 Axes>"
            ],
            "image/png": "[encoded data removed]"
          },
          "metadata": {
            "needs_background": "light"
          }
        }
      ]
    },
    {
      "cell_type": "markdown",
      "source": [
        "## Build Network"
      ],
      "metadata": {
        "id": "7o6dqhVkDS0L"
      }
    },
    {
      "cell_type": "code",
      "source": [
        "# input of the network: torch Tensor image of shape 480x640\n",
        "# output of the network: label and 4 float numbers, for each detection"
      ],
      "metadata": {
        "id": "1XvhpQCJDUU8"
      },
      "execution_count": 111,
      "outputs": []
    },
    {
      "cell_type": "code",
      "source": [
        "## Define the model here\n",
        "### architecture\n",
        "### loss"
      ],
      "metadata": {
        "id": "1dxsYfvyEHdr"
      },
      "execution_count": null,
      "outputs": []
    },
    {
      "cell_type": "markdown",
      "source": [
        "## Training"
      ],
      "metadata": {
        "id": "BjB6pgvuJB7c"
      }
    },
    {
      "cell_type": "code",
      "source": [
        "def train(writer: utils.tensorboard.writer.SummaryWriter,\n",
        "          model: nn.Module,\n",
        "          train_loader: utils.data.DataLoader,\n",
        "          device: torch.device,          \n",
        "          optimizer: torch.optim,          \n",
        "          log_interval: int,\n",
        "          epoch: int) -> Dict[str, float]:\n",
        "    \"\"\"Trains a neural network for one epoch.\n",
        "\n",
        "    Args:\n",
        "        model: the model to train.\n",
        "        train_loader: the data loader containing the training data.\n",
        "        device: the device to use to train the model.        \n",
        "        optimizer: the optimizer to use to train the model.        \n",
        "        log_interval: the log interval.\n",
        "        epoch: the number of the current epoch.\n",
        "\n",
        "    Returns: \n",
        "        A dictionary containing:\n",
        "            the sum of classification and regression loss.\n",
        "            the classification loss.\n",
        "            the regression loss.\n",
        "    \"\"\"        \n",
        "    size_ds_train = len(train_loader.dataset)\n",
        "    num_batches = len(train_loader)    \n",
        "\n",
        "    model.train()\n",
        "    for idx_batch, (images, targets) in enumerate(train_loader):        \n",
        "        optimizer.zero_grad()\n",
        "        images = list(image.to(device) for image in images)\n",
        "        targets = [{k: v.to(device) for k, v in t.items()} for t in targets]\n",
        "\n",
        "        loss_dict = model(images, targets)\n",
        "        \n",
        "        loss_class = loss_dict['classification']\n",
        "        loss_boxes_regr = loss_dict['bbox_regression']\n",
        "        losses = loss_class + loss_boxes_regr\n",
        "        losses.backward()\n",
        "        optimizer.step()\n",
        "\n",
        "        if log_interval > 0:\n",
        "            if idx_batch % log_interval == 0:                                \n",
        "                global_step = idx_batch + (epoch * num_batches)                 \n",
        "                writer.add_scalar('Metrics/Loss_Train_IT_Sum', losses, global_step)         \n",
        "                writer.add_scalar('Metrics/Loss_Train_IT_Boxes', loss_boxes_regr, global_step)     \n",
        "                writer.add_scalar('Metrics/Loss_Train_IT_Classification', loss_class, global_step)                    \n",
        "                    \n",
        "    dict_losses_train = {'bbox_regression': loss_boxes_regr,\n",
        "                         'classification': loss_class,\n",
        "                         'sum': losses}\n",
        "    return dict_losses_train\n"
      ],
      "metadata": {
        "id": "P89h_onqI964"
      },
      "execution_count": 112,
      "outputs": []
    },
    {
      "cell_type": "code",
      "source": [
        "def training_loop(writer: utils.tensorboard.writer.SummaryWriter,\n",
        "                  num_epochs: int,\n",
        "                  optimizer: torch.optim, \n",
        "                  lr_scheduler: torch.optim.lr_scheduler,\n",
        "                  log_interval: int, \n",
        "                  model: nn.Module, \n",
        "                  loader_train: utils.data.DataLoader, \n",
        "                  loader_val: utils.data.DataLoader, \n",
        "                  verbose: bool=True) -> Dict[str, List[float]]:\n",
        "    \"\"\"Executes the training loop.\n",
        "    \n",
        "        Args:\n",
        "            writer: the summary writer for tensorboard.\n",
        "            num_epochs: the number of epochs.\n",
        "            optimizer: the optimizer to use.\n",
        "            lr_scheduler: the scheduler for the learning rate.\n",
        "            log_interval: intervall to print on tensorboard.\n",
        "            model: the model to train.\n",
        "            loader_train: the data loader containing the training data.\n",
        "            loader_val: the data loader containing the validation data.\n",
        "            verbose: if true print the value of loss.\n",
        "\n",
        "        Returns:  \n",
        "            A dictionary with the statistics computed during the train:\n",
        "            the values for the train loss for each epoch.\n",
        "            the values for the train accuracy for each epoch.            \n",
        "            the time of execution in seconds for the entire loop.\n",
        "            the model trained \n",
        "    \"\"\"    \n",
        "    loop_start = timer()\n",
        "\n",
        "    losses_val_bb = []\n",
        "    losses_val_class = []\n",
        "    losses_val_sum = []\n",
        "    \n",
        "    for epoch in range(1, num_epochs + 1):\n",
        "        time_start = timer()\n",
        "        losses_epoch_train = train(writer, model, loader_train, device, \n",
        "                                   optimizer, log_interval, epoch)\n",
        "        \n",
        "        #######################################################################\n",
        "        ########      Validate the model, look at the assignments.    #########\n",
        "        #######################################################################\n",
        "\n",
        "        loss_bb = losses_epoch_train['bbox_regression']\n",
        "        losses_val_bb.append(loss_bb)\n",
        "        \n",
        "        loss_class = losses_epoch_train['classification']\n",
        "        losses_val_class.append(loss_class)\n",
        "        \n",
        "        loss_sum = losses_epoch_train['sum']\n",
        "        losses_val_sum.append(loss_sum)\n",
        "        \n",
        "        time_end = timer()\n",
        "\n",
        "        lr = optimizer.param_groups[0]['lr']\n",
        "        \n",
        "        if verbose:            \n",
        "            print(f'Epoch: {epoch} '\n",
        "                  f' Lr: {lr:.8f} '\n",
        "                  f' Losses Train: Sum = [{loss_sum:.4f}] Class = [{loss_class:.4f}] Boxes = [{loss_bb:.4f}]'                  \n",
        "                  f' Time one epoch (s): {(time_end - time_start):.4f} ')\n",
        "        \n",
        "        # Plot to tensorboard        \n",
        "        writer.add_scalar('Hyperparameters/Learning Rate', lr, epoch)\n",
        "        writer.add_scalar('Metrics/Losses/Sum', loss_sum, epoch)\n",
        "        writer.add_scalar('Metrics/Losses/Boxes', loss_bb, epoch)\n",
        "        writer.add_scalar('Metrics/Losses/Classification', loss_class, epoch)\n",
        "        writer.flush()\n",
        "                \n",
        "        if lr_scheduler:            \n",
        "            lr_scheduler.step()\n",
        "    \n",
        "    loop_end = timer()\n",
        "    time_loop = loop_end - loop_start\n",
        "    if verbose:\n",
        "        print(f'Time for {num_epochs} epochs (s): {(time_loop):.3f}') \n",
        "            \n",
        "    return {'bbox_regression': losses_val_bb,\n",
        "            'classification': losses_val_class,\n",
        "            'sum': losses_val_sum,\n",
        "            'time': time_loop}"
      ],
      "metadata": {
        "id": "NmCuSPUYJwB-"
      },
      "execution_count": 113,
      "outputs": []
    },
    {
      "cell_type": "markdown",
      "source": [
        "## Test"
      ],
      "metadata": {
        "id": "81t3YbO3JI2n"
      }
    },
    {
      "cell_type": "code",
      "source": [
        "def detect_objects(image: Image,\n",
        "                   detector: nn.Module, \n",
        "                   threshold: float, \n",
        "                   categories: List[str]) -> Tuple[List[List[int]], \n",
        "                                                   List[float], \n",
        "                                                   List[str], \n",
        "                                                   List[int]]:\n",
        "    \"\"\"Detects objects in the image using the provided detector. \n",
        "    This function puts the model in the eval mode.\n",
        "\n",
        "    Args:\n",
        "        image: the input image.\n",
        "        detector: the object detector.\n",
        "        threshold: the detection confidence score, any detections with scores \n",
        "        below this value are discarded.\n",
        "        categories: the names of the categories of the data set used to train the network.\n",
        "\n",
        "    Returns:\n",
        "        The bounding boxes of the predicted objects using the [x_min, y_min, x_max, y_max] format, \n",
        "        with values between 0 and image height and 0 and image width.\n",
        "        The scores of the predicted objects.\n",
        "        The categories of the predicted objects.\n",
        "    \"\"\"\n",
        "    detector.eval()\n",
        "    with torch.no_grad():\n",
        "        predictions = detector(image)\n",
        "        predictions = predictions[0]\n",
        "    \n",
        "    # Get scores, boxex, and labels\n",
        "    scores = predictions['scores'].detach().cpu().numpy()\n",
        "    boxes = predictions['boxes'].detach().cpu().numpy()\n",
        "    labels = predictions['labels'].cpu().numpy()\n",
        "    \n",
        "    # Get all the boxes above the threshold\n",
        "    mask = scores >= threshold\n",
        "    boxes_filtered = boxes[mask].astype(np.int32)\n",
        "    \n",
        "    # Get the names of the categories above the threshold\n",
        "    indices_filtered = [idx for idx, score in enumerate(list(scores)) if score >= threshold]      \n",
        "    categories_filtered = [categories[labels[i]] for i in indices_filtered]\n",
        "    \n",
        "    # Get only the scores above the threshold\n",
        "    labels_filtered = labels[mask]\n",
        "    scores_filtered = scores[mask]\n",
        "\n",
        "    return boxes_filtered, scores_filtered, categories_filtered, labels_filtered"
      ],
      "metadata": {
        "id": "xXP-XAWRJ1Qz"
      },
      "execution_count": 114,
      "outputs": []
    }
  ]
}